{
  "cells": [
    {
      "cell_type": "markdown",
      "metadata": {
        "id": "LnPbntVRnfvV"
      },
      "source": [
        "Importing the Dependencies"
      ]
    },
    {
      "cell_type": "code",
      "execution_count": 1,
      "metadata": {
        "id": "-71UtHzNVWjB"
      },
      "outputs": [],
      "source": [
        "import numpy as np\n",
        "import pandas as pd\n",
        "import plotly.express as px\n",
        "from sklearn.preprocessing import StandardScaler\n",
        "from sklearn.model_selection import train_test_split\n",
        "from sklearn import svm\n",
        "from sklearn.metrics import accuracy_score"
      ]
    },
    {
      "attachments": {},
      "cell_type": "markdown",
      "metadata": {
        "id": "bmfOfG8joBBy"
      },
      "source": [
        "Data Collection and Analysis\n",
        "\n",
        "PIMA Diabetes Dataset\n",
        "- https://www.kaggle.com/datasets/uciml/pima-indians-diabetes-database\n",
        "\n",
        "**About Dataset**\n",
        "\n",
        "Context:\n",
        "This dataset is originally from the National Institute of Diabetes and Digestive and Kidney Diseases. The objective of the dataset is to diagnostically predict whether or not a patient has diabetes, based on certain diagnostic measurements included in the dataset. Several constraints were placed on the selection of these instances from a larger database. In particular, all patients here are females at least 21 years old of Pima Indian heritage.\n",
        "\n",
        "Content:\n",
        "The datasets consists of several medical predictor variables and one target variable, Outcome. Predictor variables includes the number of pregnancies the patient has had, their BMI, insulin level, age, and so on.\n",
        "\n",
        "Inspiration:\n",
        "Can you build a machine learning model to accurately predict whether or not the patients in the dataset have diabetes or not?"
      ]
    },
    {
      "cell_type": "code",
      "execution_count": 2,
      "metadata": {
        "id": "Xpw6Mj_pn_TL"
      },
      "outputs": [],
      "source": [
        "# loading the diabetes dataset to a pandas DataFrame\n",
        "diabetes_dataset = pd.read_csv('diabetes.csv') "
      ]
    },
    {
      "cell_type": "code",
      "execution_count": 3,
      "metadata": {
        "id": "eupSUC7yoo9M"
      },
      "outputs": [],
      "source": [
        "#pd.read_csv?"
      ]
    },
    {
      "cell_type": "code",
      "execution_count": 4,
      "metadata": {
        "colab": {
          "base_uri": "https://localhost:8080/",
          "height": 206
        },
        "id": "-tjO09ncovoh",
        "outputId": "f1819070-03ce-4fdd-9882-b7879aeb8f52"
      },
      "outputs": [
        {
          "data": {
            "text/html": [
              "<div>\n",
              "<style scoped>\n",
              "    .dataframe tbody tr th:only-of-type {\n",
              "        vertical-align: middle;\n",
              "    }\n",
              "\n",
              "    .dataframe tbody tr th {\n",
              "        vertical-align: top;\n",
              "    }\n",
              "\n",
              "    .dataframe thead th {\n",
              "        text-align: right;\n",
              "    }\n",
              "</style>\n",
              "<table border=\"1\" class=\"dataframe\">\n",
              "  <thead>\n",
              "    <tr style=\"text-align: right;\">\n",
              "      <th></th>\n",
              "      <th>Pregnancies</th>\n",
              "      <th>Glucose</th>\n",
              "      <th>BloodPressure</th>\n",
              "      <th>SkinThickness</th>\n",
              "      <th>Insulin</th>\n",
              "      <th>BMI</th>\n",
              "      <th>DiabetesPedigreeFunction</th>\n",
              "      <th>Age</th>\n",
              "      <th>Outcome</th>\n",
              "    </tr>\n",
              "  </thead>\n",
              "  <tbody>\n",
              "    <tr>\n",
              "      <th>0</th>\n",
              "      <td>6</td>\n",
              "      <td>148</td>\n",
              "      <td>72</td>\n",
              "      <td>35</td>\n",
              "      <td>0</td>\n",
              "      <td>33.6</td>\n",
              "      <td>0.627</td>\n",
              "      <td>50</td>\n",
              "      <td>1</td>\n",
              "    </tr>\n",
              "    <tr>\n",
              "      <th>1</th>\n",
              "      <td>1</td>\n",
              "      <td>85</td>\n",
              "      <td>66</td>\n",
              "      <td>29</td>\n",
              "      <td>0</td>\n",
              "      <td>26.6</td>\n",
              "      <td>0.351</td>\n",
              "      <td>31</td>\n",
              "      <td>0</td>\n",
              "    </tr>\n",
              "    <tr>\n",
              "      <th>2</th>\n",
              "      <td>8</td>\n",
              "      <td>183</td>\n",
              "      <td>64</td>\n",
              "      <td>0</td>\n",
              "      <td>0</td>\n",
              "      <td>23.3</td>\n",
              "      <td>0.672</td>\n",
              "      <td>32</td>\n",
              "      <td>1</td>\n",
              "    </tr>\n",
              "    <tr>\n",
              "      <th>3</th>\n",
              "      <td>1</td>\n",
              "      <td>89</td>\n",
              "      <td>66</td>\n",
              "      <td>23</td>\n",
              "      <td>94</td>\n",
              "      <td>28.1</td>\n",
              "      <td>0.167</td>\n",
              "      <td>21</td>\n",
              "      <td>0</td>\n",
              "    </tr>\n",
              "    <tr>\n",
              "      <th>4</th>\n",
              "      <td>0</td>\n",
              "      <td>137</td>\n",
              "      <td>40</td>\n",
              "      <td>35</td>\n",
              "      <td>168</td>\n",
              "      <td>43.1</td>\n",
              "      <td>2.288</td>\n",
              "      <td>33</td>\n",
              "      <td>1</td>\n",
              "    </tr>\n",
              "  </tbody>\n",
              "</table>\n",
              "</div>"
            ],
            "text/plain": [
              "   Pregnancies  Glucose  BloodPressure  SkinThickness  Insulin   BMI  \\\n",
              "0            6      148             72             35        0  33.6   \n",
              "1            1       85             66             29        0  26.6   \n",
              "2            8      183             64              0        0  23.3   \n",
              "3            1       89             66             23       94  28.1   \n",
              "4            0      137             40             35      168  43.1   \n",
              "\n",
              "   DiabetesPedigreeFunction  Age  Outcome  \n",
              "0                     0.627   50        1  \n",
              "1                     0.351   31        0  \n",
              "2                     0.672   32        1  \n",
              "3                     0.167   21        0  \n",
              "4                     2.288   33        1  "
            ]
          },
          "execution_count": 4,
          "metadata": {},
          "output_type": "execute_result"
        }
      ],
      "source": [
        "# printing the first 5 rows of the dataset\n",
        "diabetes_dataset.head()"
      ]
    },
    {
      "cell_type": "code",
      "execution_count": 5,
      "metadata": {
        "colab": {
          "base_uri": "https://localhost:8080/"
        },
        "id": "7u_UZrh1OoC-",
        "outputId": "f8977286-a197-4cc4-98fa-7ce0adcb5203"
      },
      "outputs": [
        {
          "data": {
            "text/plain": [
              "Index(['Pregnancies', 'Glucose', 'BloodPressure', 'SkinThickness', 'Insulin',\n",
              "       'BMI', 'DiabetesPedigreeFunction', 'Age', 'Outcome'],\n",
              "      dtype='object')"
            ]
          },
          "execution_count": 5,
          "metadata": {},
          "output_type": "execute_result"
        }
      ],
      "source": [
        "diabetes_dataset.columns"
      ]
    },
    {
      "cell_type": "code",
      "execution_count": 6,
      "metadata": {
        "colab": {
          "base_uri": "https://localhost:8080/"
        },
        "id": "lynParo6pEMB",
        "outputId": "424ac0cd-b446-438f-811b-a9e2f48aa76c"
      },
      "outputs": [
        {
          "data": {
            "text/plain": [
              "(768, 9)"
            ]
          },
          "execution_count": 6,
          "metadata": {},
          "output_type": "execute_result"
        }
      ],
      "source": [
        "# number of rows and Columns in this dataset\n",
        "diabetes_dataset.shape"
      ]
    },
    {
      "cell_type": "code",
      "execution_count": 7,
      "metadata": {
        "colab": {
          "base_uri": "https://localhost:8080/",
          "height": 300
        },
        "id": "3NDJOlrEpmoL",
        "outputId": "236858f7-747d-4b18-96d6-227d2ddbd8ec"
      },
      "outputs": [
        {
          "data": {
            "text/html": [
              "<div>\n",
              "<style scoped>\n",
              "    .dataframe tbody tr th:only-of-type {\n",
              "        vertical-align: middle;\n",
              "    }\n",
              "\n",
              "    .dataframe tbody tr th {\n",
              "        vertical-align: top;\n",
              "    }\n",
              "\n",
              "    .dataframe thead th {\n",
              "        text-align: right;\n",
              "    }\n",
              "</style>\n",
              "<table border=\"1\" class=\"dataframe\">\n",
              "  <thead>\n",
              "    <tr style=\"text-align: right;\">\n",
              "      <th></th>\n",
              "      <th>Pregnancies</th>\n",
              "      <th>Glucose</th>\n",
              "      <th>BloodPressure</th>\n",
              "      <th>SkinThickness</th>\n",
              "      <th>Insulin</th>\n",
              "      <th>BMI</th>\n",
              "      <th>DiabetesPedigreeFunction</th>\n",
              "      <th>Age</th>\n",
              "      <th>Outcome</th>\n",
              "    </tr>\n",
              "  </thead>\n",
              "  <tbody>\n",
              "    <tr>\n",
              "      <th>count</th>\n",
              "      <td>768.000000</td>\n",
              "      <td>768.000000</td>\n",
              "      <td>768.000000</td>\n",
              "      <td>768.000000</td>\n",
              "      <td>768.000000</td>\n",
              "      <td>768.000000</td>\n",
              "      <td>768.000000</td>\n",
              "      <td>768.000000</td>\n",
              "      <td>768.000000</td>\n",
              "    </tr>\n",
              "    <tr>\n",
              "      <th>mean</th>\n",
              "      <td>3.845052</td>\n",
              "      <td>120.894531</td>\n",
              "      <td>69.105469</td>\n",
              "      <td>20.536458</td>\n",
              "      <td>79.799479</td>\n",
              "      <td>31.992578</td>\n",
              "      <td>0.471876</td>\n",
              "      <td>33.240885</td>\n",
              "      <td>0.348958</td>\n",
              "    </tr>\n",
              "    <tr>\n",
              "      <th>std</th>\n",
              "      <td>3.369578</td>\n",
              "      <td>31.972618</td>\n",
              "      <td>19.355807</td>\n",
              "      <td>15.952218</td>\n",
              "      <td>115.244002</td>\n",
              "      <td>7.884160</td>\n",
              "      <td>0.331329</td>\n",
              "      <td>11.760232</td>\n",
              "      <td>0.476951</td>\n",
              "    </tr>\n",
              "    <tr>\n",
              "      <th>min</th>\n",
              "      <td>0.000000</td>\n",
              "      <td>0.000000</td>\n",
              "      <td>0.000000</td>\n",
              "      <td>0.000000</td>\n",
              "      <td>0.000000</td>\n",
              "      <td>0.000000</td>\n",
              "      <td>0.078000</td>\n",
              "      <td>21.000000</td>\n",
              "      <td>0.000000</td>\n",
              "    </tr>\n",
              "    <tr>\n",
              "      <th>25%</th>\n",
              "      <td>1.000000</td>\n",
              "      <td>99.000000</td>\n",
              "      <td>62.000000</td>\n",
              "      <td>0.000000</td>\n",
              "      <td>0.000000</td>\n",
              "      <td>27.300000</td>\n",
              "      <td>0.243750</td>\n",
              "      <td>24.000000</td>\n",
              "      <td>0.000000</td>\n",
              "    </tr>\n",
              "    <tr>\n",
              "      <th>50%</th>\n",
              "      <td>3.000000</td>\n",
              "      <td>117.000000</td>\n",
              "      <td>72.000000</td>\n",
              "      <td>23.000000</td>\n",
              "      <td>30.500000</td>\n",
              "      <td>32.000000</td>\n",
              "      <td>0.372500</td>\n",
              "      <td>29.000000</td>\n",
              "      <td>0.000000</td>\n",
              "    </tr>\n",
              "    <tr>\n",
              "      <th>75%</th>\n",
              "      <td>6.000000</td>\n",
              "      <td>140.250000</td>\n",
              "      <td>80.000000</td>\n",
              "      <td>32.000000</td>\n",
              "      <td>127.250000</td>\n",
              "      <td>36.600000</td>\n",
              "      <td>0.626250</td>\n",
              "      <td>41.000000</td>\n",
              "      <td>1.000000</td>\n",
              "    </tr>\n",
              "    <tr>\n",
              "      <th>max</th>\n",
              "      <td>17.000000</td>\n",
              "      <td>199.000000</td>\n",
              "      <td>122.000000</td>\n",
              "      <td>99.000000</td>\n",
              "      <td>846.000000</td>\n",
              "      <td>67.100000</td>\n",
              "      <td>2.420000</td>\n",
              "      <td>81.000000</td>\n",
              "      <td>1.000000</td>\n",
              "    </tr>\n",
              "  </tbody>\n",
              "</table>\n",
              "</div>"
            ],
            "text/plain": [
              "       Pregnancies     Glucose  BloodPressure  SkinThickness     Insulin  \\\n",
              "count   768.000000  768.000000     768.000000     768.000000  768.000000   \n",
              "mean      3.845052  120.894531      69.105469      20.536458   79.799479   \n",
              "std       3.369578   31.972618      19.355807      15.952218  115.244002   \n",
              "min       0.000000    0.000000       0.000000       0.000000    0.000000   \n",
              "25%       1.000000   99.000000      62.000000       0.000000    0.000000   \n",
              "50%       3.000000  117.000000      72.000000      23.000000   30.500000   \n",
              "75%       6.000000  140.250000      80.000000      32.000000  127.250000   \n",
              "max      17.000000  199.000000     122.000000      99.000000  846.000000   \n",
              "\n",
              "              BMI  DiabetesPedigreeFunction         Age     Outcome  \n",
              "count  768.000000                768.000000  768.000000  768.000000  \n",
              "mean    31.992578                  0.471876   33.240885    0.348958  \n",
              "std      7.884160                  0.331329   11.760232    0.476951  \n",
              "min      0.000000                  0.078000   21.000000    0.000000  \n",
              "25%     27.300000                  0.243750   24.000000    0.000000  \n",
              "50%     32.000000                  0.372500   29.000000    0.000000  \n",
              "75%     36.600000                  0.626250   41.000000    1.000000  \n",
              "max     67.100000                  2.420000   81.000000    1.000000  "
            ]
          },
          "execution_count": 7,
          "metadata": {},
          "output_type": "execute_result"
        }
      ],
      "source": [
        "# getting the statistical measures of the data\n",
        "diabetes_dataset.describe()"
      ]
    },
    {
      "cell_type": "code",
      "execution_count": 60,
      "metadata": {},
      "outputs": [
        {
          "name": "stdout",
          "output_type": "stream",
          "text": [
            "<class 'pandas.core.frame.DataFrame'>\n",
            "RangeIndex: 768 entries, 0 to 767\n",
            "Data columns (total 9 columns):\n",
            " #   Column                    Non-Null Count  Dtype  \n",
            "---  ------                    --------------  -----  \n",
            " 0   Pregnancies               768 non-null    int64  \n",
            " 1   Glucose                   768 non-null    int64  \n",
            " 2   BloodPressure             768 non-null    int64  \n",
            " 3   SkinThickness             768 non-null    int64  \n",
            " 4   Insulin                   768 non-null    int64  \n",
            " 5   BMI                       768 non-null    float64\n",
            " 6   DiabetesPedigreeFunction  768 non-null    float64\n",
            " 7   Age                       768 non-null    int64  \n",
            " 8   Outcome                   768 non-null    int64  \n",
            "dtypes: float64(2), int64(7)\n",
            "memory usage: 54.1 KB\n"
          ]
        }
      ],
      "source": [
        "# See if there is any missing values\n",
        "diabetes_dataset.info()"
      ]
    },
    {
      "cell_type": "code",
      "execution_count": 49,
      "metadata": {},
      "outputs": [
        {
          "name": "stdout",
          "output_type": "stream",
          "text": [
            "     Pregnancies  Glucose  BloodPressure  SkinThickness  Insulin   BMI  \\\n",
            "459            9      134             74             33       60  25.9   \n",
            "\n",
            "     DiabetesPedigreeFunction  Age  Outcome  \n",
            "459                      0.46   81        0  \n"
          ]
        }
      ],
      "source": [
        "# filter the rows where 'Age' equals 81\n",
        "age_81 = diabetes_dataset[diabetes_dataset['Age'] == 81]\n",
        "\n",
        "# display the filtered rows\n",
        "print(age_81)"
      ]
    },
    {
      "cell_type": "code",
      "execution_count": 50,
      "metadata": {},
      "outputs": [
        {
          "name": "stdout",
          "output_type": "stream",
          "text": [
            "     Pregnancies  Glucose  BloodPressure  SkinThickness  Insulin   BMI  \\\n",
            "159           17      163             72             41      114  40.9   \n",
            "\n",
            "     DiabetesPedigreeFunction  Age  Outcome  \n",
            "159                     0.817   47        1  \n"
          ]
        }
      ],
      "source": [
        "# filter the rows where 'Pregnancies' equals 17\n",
        "preg_17 = diabetes_dataset[diabetes_dataset['Pregnancies'] == 17]\n",
        "\n",
        "# display the filtered rows\n",
        "print(preg_17)"
      ]
    },
    {
      "cell_type": "code",
      "execution_count": 8,
      "metadata": {
        "colab": {
          "base_uri": "https://localhost:8080/"
        },
        "id": "LrpHzaGpp5dQ",
        "outputId": "58e00ff9-5e1d-4238-b9c7-2cf123678084"
      },
      "outputs": [
        {
          "data": {
            "text/plain": [
              "0    500\n",
              "1    268\n",
              "Name: Outcome, dtype: int64"
            ]
          },
          "execution_count": 8,
          "metadata": {},
          "output_type": "execute_result"
        }
      ],
      "source": [
        "diabetes_dataset['Outcome'].value_counts()"
      ]
    },
    {
      "cell_type": "markdown",
      "metadata": {
        "id": "cB1qRaNcqeh5"
      },
      "source": [
        "0 --> Non-Diabetic\n",
        "\n",
        "1 --> Diabetic"
      ]
    },
    {
      "cell_type": "code",
      "execution_count": 9,
      "metadata": {
        "colab": {
          "base_uri": "https://localhost:8080/",
          "height": 143
        },
        "id": "I6MWR0k_qSCK",
        "outputId": "dfb89dc0-ca0b-4373-a258-2a3612d41bd9"
      },
      "outputs": [
        {
          "data": {
            "text/html": [
              "<div>\n",
              "<style scoped>\n",
              "    .dataframe tbody tr th:only-of-type {\n",
              "        vertical-align: middle;\n",
              "    }\n",
              "\n",
              "    .dataframe tbody tr th {\n",
              "        vertical-align: top;\n",
              "    }\n",
              "\n",
              "    .dataframe thead th {\n",
              "        text-align: right;\n",
              "    }\n",
              "</style>\n",
              "<table border=\"1\" class=\"dataframe\">\n",
              "  <thead>\n",
              "    <tr style=\"text-align: right;\">\n",
              "      <th></th>\n",
              "      <th>Pregnancies</th>\n",
              "      <th>Glucose</th>\n",
              "      <th>BloodPressure</th>\n",
              "      <th>SkinThickness</th>\n",
              "      <th>Insulin</th>\n",
              "      <th>BMI</th>\n",
              "      <th>DiabetesPedigreeFunction</th>\n",
              "      <th>Age</th>\n",
              "    </tr>\n",
              "    <tr>\n",
              "      <th>Outcome</th>\n",
              "      <th></th>\n",
              "      <th></th>\n",
              "      <th></th>\n",
              "      <th></th>\n",
              "      <th></th>\n",
              "      <th></th>\n",
              "      <th></th>\n",
              "      <th></th>\n",
              "    </tr>\n",
              "  </thead>\n",
              "  <tbody>\n",
              "    <tr>\n",
              "      <th>0</th>\n",
              "      <td>3.298000</td>\n",
              "      <td>109.980000</td>\n",
              "      <td>68.184000</td>\n",
              "      <td>19.664000</td>\n",
              "      <td>68.792000</td>\n",
              "      <td>30.304200</td>\n",
              "      <td>0.429734</td>\n",
              "      <td>31.190000</td>\n",
              "    </tr>\n",
              "    <tr>\n",
              "      <th>1</th>\n",
              "      <td>4.865672</td>\n",
              "      <td>141.257463</td>\n",
              "      <td>70.824627</td>\n",
              "      <td>22.164179</td>\n",
              "      <td>100.335821</td>\n",
              "      <td>35.142537</td>\n",
              "      <td>0.550500</td>\n",
              "      <td>37.067164</td>\n",
              "    </tr>\n",
              "  </tbody>\n",
              "</table>\n",
              "</div>"
            ],
            "text/plain": [
              "         Pregnancies     Glucose  BloodPressure  SkinThickness     Insulin  \\\n",
              "Outcome                                                                      \n",
              "0           3.298000  109.980000      68.184000      19.664000   68.792000   \n",
              "1           4.865672  141.257463      70.824627      22.164179  100.335821   \n",
              "\n",
              "               BMI  DiabetesPedigreeFunction        Age  \n",
              "Outcome                                                  \n",
              "0        30.304200                  0.429734  31.190000  \n",
              "1        35.142537                  0.550500  37.067164  "
            ]
          },
          "execution_count": 9,
          "metadata": {},
          "output_type": "execute_result"
        }
      ],
      "source": [
        "diabetes_dataset.groupby('Outcome').mean()"
      ]
    },
    {
      "attachments": {},
      "cell_type": "markdown",
      "metadata": {},
      "source": [
        "*Some Basic EDA of the Dataset*"
      ]
    },
    {
      "cell_type": "code",
      "execution_count": 47,
      "metadata": {},
      "outputs": [
        {
          "data": {
            "application/vnd.plotly.v1+json": {
              "config": {
                "plotlyServerURL": "https://plot.ly"
              },
              "data": [
                {
                  "hovertemplate": "Age=%{x}<br>Pregnancies=%{y}<extra></extra>",
                  "legendgroup": "",
                  "marker": {
                    "color": "#636efa",
                    "symbol": "circle"
                  },
                  "mode": "markers",
                  "name": "",
                  "orientation": "v",
                  "showlegend": false,
                  "type": "scatter",
                  "x": [
                    50,
                    31,
                    32,
                    21,
                    33,
                    30,
                    26,
                    29,
                    53,
                    54,
                    30,
                    34,
                    57,
                    59,
                    51,
                    32,
                    31,
                    31,
                    33,
                    32,
                    27,
                    50,
                    41,
                    29,
                    51,
                    41,
                    43,
                    22,
                    57,
                    38,
                    60,
                    28,
                    22,
                    28,
                    45,
                    33,
                    35,
                    46,
                    27,
                    56,
                    26,
                    37,
                    48,
                    54,
                    40,
                    25,
                    29,
                    22,
                    31,
                    24,
                    22,
                    26,
                    30,
                    58,
                    42,
                    21,
                    41,
                    31,
                    44,
                    22,
                    21,
                    39,
                    36,
                    24,
                    42,
                    32,
                    38,
                    54,
                    25,
                    27,
                    28,
                    26,
                    42,
                    23,
                    22,
                    22,
                    41,
                    27,
                    26,
                    24,
                    22,
                    22,
                    36,
                    22,
                    37,
                    27,
                    45,
                    26,
                    43,
                    24,
                    21,
                    34,
                    42,
                    60,
                    21,
                    40,
                    24,
                    22,
                    23,
                    31,
                    33,
                    22,
                    21,
                    24,
                    27,
                    21,
                    27,
                    37,
                    25,
                    24,
                    24,
                    46,
                    23,
                    25,
                    39,
                    61,
                    38,
                    25,
                    22,
                    21,
                    25,
                    24,
                    23,
                    69,
                    23,
                    26,
                    30,
                    23,
                    40,
                    62,
                    33,
                    33,
                    30,
                    39,
                    26,
                    31,
                    21,
                    22,
                    29,
                    28,
                    55,
                    38,
                    22,
                    42,
                    23,
                    21,
                    41,
                    34,
                    65,
                    22,
                    24,
                    37,
                    42,
                    23,
                    43,
                    36,
                    21,
                    23,
                    22,
                    47,
                    36,
                    45,
                    27,
                    21,
                    32,
                    41,
                    22,
                    34,
                    29,
                    29,
                    36,
                    29,
                    25,
                    23,
                    33,
                    36,
                    42,
                    26,
                    47,
                    37,
                    32,
                    23,
                    21,
                    27,
                    40,
                    41,
                    60,
                    33,
                    31,
                    25,
                    21,
                    40,
                    36,
                    40,
                    42,
                    29,
                    21,
                    23,
                    26,
                    29,
                    21,
                    28,
                    32,
                    27,
                    55,
                    27,
                    57,
                    52,
                    21,
                    41,
                    25,
                    24,
                    60,
                    24,
                    36,
                    38,
                    25,
                    32,
                    32,
                    41,
                    21,
                    66,
                    37,
                    61,
                    26,
                    22,
                    26,
                    24,
                    31,
                    24,
                    22,
                    46,
                    22,
                    29,
                    23,
                    26,
                    51,
                    23,
                    32,
                    27,
                    21,
                    22,
                    22,
                    33,
                    29,
                    49,
                    41,
                    23,
                    34,
                    23,
                    42,
                    27,
                    24,
                    25,
                    44,
                    21,
                    30,
                    25,
                    24,
                    51,
                    34,
                    27,
                    24,
                    63,
                    35,
                    43,
                    25,
                    24,
                    21,
                    28,
                    38,
                    21,
                    40,
                    21,
                    52,
                    25,
                    29,
                    23,
                    57,
                    22,
                    28,
                    39,
                    37,
                    47,
                    52,
                    51,
                    34,
                    29,
                    26,
                    33,
                    21,
                    25,
                    31,
                    24,
                    65,
                    28,
                    29,
                    24,
                    46,
                    58,
                    30,
                    25,
                    35,
                    28,
                    37,
                    29,
                    47,
                    21,
                    25,
                    30,
                    41,
                    22,
                    27,
                    25,
                    43,
                    26,
                    30,
                    29,
                    28,
                    59,
                    31,
                    25,
                    36,
                    43,
                    21,
                    24,
                    30,
                    37,
                    23,
                    37,
                    46,
                    25,
                    41,
                    44,
                    22,
                    26,
                    44,
                    44,
                    33,
                    41,
                    22,
                    36,
                    22,
                    33,
                    57,
                    49,
                    22,
                    23,
                    26,
                    37,
                    29,
                    30,
                    46,
                    24,
                    21,
                    49,
                    28,
                    44,
                    48,
                    29,
                    29,
                    63,
                    65,
                    67,
                    30,
                    30,
                    29,
                    21,
                    22,
                    45,
                    25,
                    21,
                    21,
                    25,
                    28,
                    58,
                    22,
                    22,
                    32,
                    35,
                    24,
                    22,
                    21,
                    25,
                    25,
                    24,
                    35,
                    45,
                    58,
                    28,
                    42,
                    27,
                    21,
                    37,
                    31,
                    25,
                    39,
                    22,
                    25,
                    25,
                    31,
                    55,
                    35,
                    38,
                    41,
                    26,
                    46,
                    25,
                    39,
                    28,
                    28,
                    25,
                    22,
                    21,
                    21,
                    22,
                    22,
                    37,
                    27,
                    28,
                    26,
                    21,
                    21,
                    21,
                    36,
                    31,
                    25,
                    38,
                    26,
                    43,
                    23,
                    38,
                    22,
                    29,
                    36,
                    29,
                    41,
                    28,
                    21,
                    31,
                    41,
                    22,
                    24,
                    33,
                    30,
                    25,
                    28,
                    26,
                    22,
                    26,
                    23,
                    23,
                    25,
                    72,
                    24,
                    38,
                    62,
                    24,
                    51,
                    81,
                    48,
                    26,
                    39,
                    37,
                    34,
                    21,
                    22,
                    25,
                    38,
                    27,
                    28,
                    22,
                    22,
                    50,
                    24,
                    59,
                    29,
                    31,
                    39,
                    63,
                    35,
                    29,
                    28,
                    23,
                    31,
                    24,
                    21,
                    58,
                    28,
                    67,
                    24,
                    42,
                    33,
                    45,
                    22,
                    66,
                    30,
                    25,
                    55,
                    39,
                    21,
                    28,
                    41,
                    41,
                    40,
                    38,
                    35,
                    21,
                    21,
                    64,
                    46,
                    21,
                    58,
                    22,
                    24,
                    28,
                    53,
                    51,
                    41,
                    60,
                    25,
                    26,
                    26,
                    45,
                    24,
                    21,
                    21,
                    24,
                    22,
                    31,
                    22,
                    24,
                    29,
                    31,
                    24,
                    23,
                    46,
                    67,
                    23,
                    32,
                    43,
                    27,
                    56,
                    25,
                    29,
                    37,
                    53,
                    28,
                    50,
                    37,
                    21,
                    25,
                    66,
                    23,
                    28,
                    37,
                    30,
                    58,
                    42,
                    35,
                    54,
                    28,
                    24,
                    32,
                    27,
                    22,
                    21,
                    46,
                    37,
                    33,
                    39,
                    21,
                    22,
                    22,
                    23,
                    25,
                    35,
                    21,
                    36,
                    62,
                    21,
                    27,
                    62,
                    42,
                    52,
                    22,
                    41,
                    29,
                    52,
                    25,
                    45,
                    24,
                    44,
                    25,
                    34,
                    22,
                    46,
                    21,
                    38,
                    26,
                    24,
                    28,
                    30,
                    54,
                    36,
                    21,
                    22,
                    25,
                    27,
                    23,
                    24,
                    36,
                    40,
                    26,
                    50,
                    27,
                    30,
                    23,
                    50,
                    24,
                    28,
                    28,
                    45,
                    21,
                    21,
                    29,
                    21,
                    21,
                    45,
                    21,
                    34,
                    24,
                    23,
                    22,
                    31,
                    38,
                    48,
                    23,
                    32,
                    28,
                    27,
                    24,
                    50,
                    31,
                    27,
                    30,
                    33,
                    22,
                    42,
                    23,
                    23,
                    27,
                    28,
                    27,
                    22,
                    25,
                    22,
                    41,
                    51,
                    27,
                    54,
                    22,
                    43,
                    40,
                    40,
                    24,
                    70,
                    40,
                    43,
                    45,
                    49,
                    21,
                    47,
                    22,
                    68,
                    31,
                    53,
                    25,
                    25,
                    23,
                    22,
                    26,
                    22,
                    27,
                    69,
                    25,
                    22,
                    29,
                    23,
                    46,
                    34,
                    44,
                    23,
                    43,
                    25,
                    43,
                    31,
                    22,
                    28,
                    26,
                    26,
                    49,
                    52,
                    41,
                    27,
                    28,
                    30,
                    22,
                    45,
                    23,
                    24,
                    40,
                    38,
                    21,
                    32,
                    34,
                    31,
                    56,
                    24,
                    52,
                    34,
                    21,
                    42,
                    42,
                    45,
                    38,
                    25,
                    22,
                    22,
                    22,
                    34,
                    22,
                    24,
                    22,
                    53,
                    28,
                    21,
                    42,
                    21,
                    42,
                    48,
                    26,
                    22,
                    45,
                    39,
                    46,
                    27,
                    32,
                    36,
                    50,
                    22,
                    28,
                    25,
                    26,
                    45,
                    37,
                    39,
                    52,
                    26,
                    66,
                    22,
                    43,
                    33,
                    63,
                    27,
                    30,
                    47,
                    23
                  ],
                  "xaxis": "x",
                  "y": [
                    6,
                    1,
                    8,
                    1,
                    0,
                    5,
                    3,
                    10,
                    2,
                    8,
                    4,
                    10,
                    10,
                    1,
                    5,
                    7,
                    0,
                    7,
                    1,
                    1,
                    3,
                    8,
                    7,
                    9,
                    11,
                    10,
                    7,
                    1,
                    13,
                    5,
                    5,
                    3,
                    3,
                    6,
                    10,
                    4,
                    11,
                    9,
                    2,
                    4,
                    3,
                    7,
                    7,
                    9,
                    7,
                    0,
                    1,
                    2,
                    7,
                    7,
                    1,
                    1,
                    5,
                    8,
                    7,
                    1,
                    7,
                    0,
                    0,
                    0,
                    2,
                    8,
                    5,
                    2,
                    7,
                    5,
                    0,
                    2,
                    1,
                    4,
                    2,
                    5,
                    13,
                    4,
                    1,
                    1,
                    7,
                    5,
                    0,
                    2,
                    3,
                    2,
                    7,
                    0,
                    5,
                    2,
                    13,
                    2,
                    15,
                    1,
                    1,
                    4,
                    7,
                    4,
                    2,
                    6,
                    2,
                    1,
                    6,
                    1,
                    1,
                    1,
                    0,
                    1,
                    2,
                    1,
                    1,
                    4,
                    3,
                    0,
                    3,
                    8,
                    1,
                    4,
                    7,
                    4,
                    5,
                    5,
                    4,
                    4,
                    0,
                    6,
                    2,
                    5,
                    0,
                    1,
                    3,
                    1,
                    1,
                    0,
                    4,
                    9,
                    3,
                    8,
                    2,
                    2,
                    0,
                    0,
                    0,
                    5,
                    3,
                    5,
                    2,
                    10,
                    4,
                    0,
                    9,
                    2,
                    5,
                    2,
                    1,
                    4,
                    9,
                    1,
                    8,
                    7,
                    2,
                    1,
                    2,
                    17,
                    4,
                    7,
                    0,
                    2,
                    0,
                    6,
                    3,
                    4,
                    4,
                    3,
                    6,
                    6,
                    2,
                    1,
                    2,
                    8,
                    6,
                    0,
                    5,
                    5,
                    6,
                    0,
                    1,
                    5,
                    4,
                    7,
                    8,
                    1,
                    8,
                    5,
                    3,
                    9,
                    7,
                    11,
                    8,
                    5,
                    1,
                    3,
                    4,
                    4,
                    0,
                    1,
                    0,
                    2,
                    6,
                    5,
                    8,
                    5,
                    1,
                    7,
                    2,
                    0,
                    7,
                    0,
                    9,
                    12,
                    5,
                    6,
                    5,
                    5,
                    0,
                    2,
                    7,
                    7,
                    1,
                    1,
                    0,
                    3,
                    4,
                    0,
                    4,
                    6,
                    1,
                    4,
                    3,
                    4,
                    7,
                    0,
                    9,
                    0,
                    1,
                    4,
                    3,
                    6,
                    2,
                    9,
                    10,
                    0,
                    9,
                    1,
                    9,
                    2,
                    2,
                    0,
                    12,
                    1,
                    3,
                    2,
                    1,
                    11,
                    3,
                    3,
                    4,
                    3,
                    4,
                    5,
                    0,
                    2,
                    0,
                    2,
                    10,
                    2,
                    3,
                    1,
                    13,
                    2,
                    7,
                    0,
                    5,
                    2,
                    0,
                    10,
                    7,
                    7,
                    2,
                    7,
                    5,
                    1,
                    4,
                    5,
                    0,
                    0,
                    2,
                    1,
                    0,
                    6,
                    2,
                    0,
                    14,
                    8,
                    0,
                    2,
                    5,
                    5,
                    3,
                    2,
                    10,
                    0,
                    0,
                    2,
                    6,
                    0,
                    2,
                    3,
                    7,
                    2,
                    3,
                    3,
                    3,
                    6,
                    4,
                    3,
                    0,
                    13,
                    2,
                    1,
                    1,
                    10,
                    2,
                    6,
                    8,
                    2,
                    1,
                    12,
                    1,
                    0,
                    0,
                    5,
                    9,
                    7,
                    1,
                    1,
                    1,
                    5,
                    8,
                    8,
                    1,
                    3,
                    3,
                    5,
                    4,
                    4,
                    3,
                    1,
                    3,
                    9,
                    1,
                    13,
                    12,
                    1,
                    5,
                    5,
                    5,
                    4,
                    4,
                    5,
                    6,
                    0,
                    3,
                    1,
                    3,
                    0,
                    0,
                    2,
                    2,
                    12,
                    0,
                    1,
                    4,
                    0,
                    1,
                    0,
                    1,
                    1,
                    1,
                    1,
                    5,
                    8,
                    5,
                    3,
                    1,
                    5,
                    1,
                    4,
                    4,
                    2,
                    3,
                    0,
                    3,
                    3,
                    4,
                    6,
                    5,
                    9,
                    5,
                    2,
                    4,
                    0,
                    8,
                    1,
                    6,
                    1,
                    1,
                    1,
                    0,
                    3,
                    1,
                    4,
                    1,
                    3,
                    1,
                    2,
                    0,
                    2,
                    8,
                    4,
                    0,
                    1,
                    0,
                    1,
                    2,
                    3,
                    1,
                    2,
                    1,
                    0,
                    12,
                    5,
                    1,
                    6,
                    0,
                    2,
                    4,
                    8,
                    4,
                    0,
                    1,
                    0,
                    0,
                    0,
                    1,
                    2,
                    0,
                    2,
                    2,
                    14,
                    1,
                    5,
                    10,
                    9,
                    9,
                    1,
                    8,
                    5,
                    10,
                    0,
                    0,
                    0,
                    8,
                    6,
                    1,
                    0,
                    0,
                    7,
                    4,
                    0,
                    2,
                    7,
                    8,
                    4,
                    3,
                    0,
                    4,
                    0,
                    0,
                    0,
                    1,
                    0,
                    4,
                    8,
                    2,
                    2,
                    4,
                    4,
                    3,
                    6,
                    5,
                    2,
                    7,
                    6,
                    2,
                    3,
                    6,
                    7,
                    3,
                    10,
                    0,
                    1,
                    2,
                    8,
                    12,
                    0,
                    9,
                    2,
                    3,
                    3,
                    9,
                    7,
                    13,
                    6,
                    2,
                    3,
                    6,
                    9,
                    3,
                    3,
                    1,
                    3,
                    0,
                    0,
                    2,
                    0,
                    1,
                    6,
                    1,
                    4,
                    0,
                    0,
                    0,
                    3,
                    8,
                    3,
                    10,
                    4,
                    1,
                    8,
                    5,
                    4,
                    1,
                    4,
                    1,
                    3,
                    6,
                    1,
                    1,
                    7,
                    1,
                    8,
                    11,
                    11,
                    6,
                    0,
                    1,
                    6,
                    0,
                    2,
                    1,
                    6,
                    4,
                    0,
                    3,
                    2,
                    3,
                    2,
                    1,
                    1,
                    6,
                    2,
                    10,
                    2,
                    0,
                    6,
                    12,
                    8,
                    8,
                    1,
                    8,
                    6,
                    3,
                    0,
                    11,
                    2,
                    3,
                    2,
                    6,
                    0,
                    0,
                    1,
                    1,
                    1,
                    1,
                    6,
                    1,
                    7,
                    4,
                    1,
                    1,
                    1,
                    0,
                    1,
                    3,
                    3,
                    7,
                    6,
                    11,
                    3,
                    6,
                    2,
                    9,
                    0,
                    2,
                    2,
                    6,
                    0,
                    2,
                    4,
                    0,
                    0,
                    5,
                    4,
                    7,
                    0,
                    2,
                    1,
                    10,
                    13,
                    5,
                    2,
                    7,
                    1,
                    0,
                    4,
                    6,
                    4,
                    3,
                    2,
                    1,
                    0,
                    11,
                    0,
                    1,
                    1,
                    5,
                    2,
                    1,
                    2,
                    2,
                    1,
                    11,
                    3,
                    10,
                    1,
                    8,
                    9,
                    6,
                    1,
                    4,
                    10,
                    6,
                    9,
                    6,
                    1,
                    10,
                    3,
                    8,
                    6,
                    9,
                    0,
                    3,
                    2,
                    2,
                    0,
                    0,
                    4,
                    5,
                    2,
                    3,
                    1,
                    1,
                    1,
                    8,
                    13,
                    2,
                    7,
                    2,
                    7,
                    3,
                    0,
                    4,
                    4,
                    2,
                    6,
                    1,
                    2,
                    4,
                    6,
                    10,
                    2,
                    9,
                    2,
                    3,
                    5,
                    10,
                    0,
                    3,
                    7,
                    3,
                    10,
                    1,
                    5,
                    4,
                    1,
                    1,
                    5,
                    1,
                    4,
                    1,
                    0,
                    2,
                    2,
                    3,
                    8,
                    2,
                    2,
                    2,
                    4,
                    0,
                    8,
                    2,
                    1,
                    11,
                    3,
                    1,
                    9,
                    13,
                    12,
                    1,
                    1,
                    3,
                    6,
                    4,
                    1,
                    3,
                    0,
                    8,
                    1,
                    7,
                    0,
                    1,
                    6,
                    2,
                    9,
                    9,
                    10,
                    2,
                    5,
                    1,
                    1
                  ],
                  "yaxis": "y"
                }
              ],
              "layout": {
                "legend": {
                  "tracegroupgap": 0
                },
                "margin": {
                  "t": 60
                },
                "template": {
                  "data": {
                    "bar": [
                      {
                        "error_x": {
                          "color": "#2a3f5f"
                        },
                        "error_y": {
                          "color": "#2a3f5f"
                        },
                        "marker": {
                          "line": {
                            "color": "#E5ECF6",
                            "width": 0.5
                          },
                          "pattern": {
                            "fillmode": "overlay",
                            "size": 10,
                            "solidity": 0.2
                          }
                        },
                        "type": "bar"
                      }
                    ],
                    "barpolar": [
                      {
                        "marker": {
                          "line": {
                            "color": "#E5ECF6",
                            "width": 0.5
                          },
                          "pattern": {
                            "fillmode": "overlay",
                            "size": 10,
                            "solidity": 0.2
                          }
                        },
                        "type": "barpolar"
                      }
                    ],
                    "carpet": [
                      {
                        "aaxis": {
                          "endlinecolor": "#2a3f5f",
                          "gridcolor": "white",
                          "linecolor": "white",
                          "minorgridcolor": "white",
                          "startlinecolor": "#2a3f5f"
                        },
                        "baxis": {
                          "endlinecolor": "#2a3f5f",
                          "gridcolor": "white",
                          "linecolor": "white",
                          "minorgridcolor": "white",
                          "startlinecolor": "#2a3f5f"
                        },
                        "type": "carpet"
                      }
                    ],
                    "choropleth": [
                      {
                        "colorbar": {
                          "outlinewidth": 0,
                          "ticks": ""
                        },
                        "type": "choropleth"
                      }
                    ],
                    "contour": [
                      {
                        "colorbar": {
                          "outlinewidth": 0,
                          "ticks": ""
                        },
                        "colorscale": [
                          [
                            0,
                            "#0d0887"
                          ],
                          [
                            0.1111111111111111,
                            "#46039f"
                          ],
                          [
                            0.2222222222222222,
                            "#7201a8"
                          ],
                          [
                            0.3333333333333333,
                            "#9c179e"
                          ],
                          [
                            0.4444444444444444,
                            "#bd3786"
                          ],
                          [
                            0.5555555555555556,
                            "#d8576b"
                          ],
                          [
                            0.6666666666666666,
                            "#ed7953"
                          ],
                          [
                            0.7777777777777778,
                            "#fb9f3a"
                          ],
                          [
                            0.8888888888888888,
                            "#fdca26"
                          ],
                          [
                            1,
                            "#f0f921"
                          ]
                        ],
                        "type": "contour"
                      }
                    ],
                    "contourcarpet": [
                      {
                        "colorbar": {
                          "outlinewidth": 0,
                          "ticks": ""
                        },
                        "type": "contourcarpet"
                      }
                    ],
                    "heatmap": [
                      {
                        "colorbar": {
                          "outlinewidth": 0,
                          "ticks": ""
                        },
                        "colorscale": [
                          [
                            0,
                            "#0d0887"
                          ],
                          [
                            0.1111111111111111,
                            "#46039f"
                          ],
                          [
                            0.2222222222222222,
                            "#7201a8"
                          ],
                          [
                            0.3333333333333333,
                            "#9c179e"
                          ],
                          [
                            0.4444444444444444,
                            "#bd3786"
                          ],
                          [
                            0.5555555555555556,
                            "#d8576b"
                          ],
                          [
                            0.6666666666666666,
                            "#ed7953"
                          ],
                          [
                            0.7777777777777778,
                            "#fb9f3a"
                          ],
                          [
                            0.8888888888888888,
                            "#fdca26"
                          ],
                          [
                            1,
                            "#f0f921"
                          ]
                        ],
                        "type": "heatmap"
                      }
                    ],
                    "heatmapgl": [
                      {
                        "colorbar": {
                          "outlinewidth": 0,
                          "ticks": ""
                        },
                        "colorscale": [
                          [
                            0,
                            "#0d0887"
                          ],
                          [
                            0.1111111111111111,
                            "#46039f"
                          ],
                          [
                            0.2222222222222222,
                            "#7201a8"
                          ],
                          [
                            0.3333333333333333,
                            "#9c179e"
                          ],
                          [
                            0.4444444444444444,
                            "#bd3786"
                          ],
                          [
                            0.5555555555555556,
                            "#d8576b"
                          ],
                          [
                            0.6666666666666666,
                            "#ed7953"
                          ],
                          [
                            0.7777777777777778,
                            "#fb9f3a"
                          ],
                          [
                            0.8888888888888888,
                            "#fdca26"
                          ],
                          [
                            1,
                            "#f0f921"
                          ]
                        ],
                        "type": "heatmapgl"
                      }
                    ],
                    "histogram": [
                      {
                        "marker": {
                          "pattern": {
                            "fillmode": "overlay",
                            "size": 10,
                            "solidity": 0.2
                          }
                        },
                        "type": "histogram"
                      }
                    ],
                    "histogram2d": [
                      {
                        "colorbar": {
                          "outlinewidth": 0,
                          "ticks": ""
                        },
                        "colorscale": [
                          [
                            0,
                            "#0d0887"
                          ],
                          [
                            0.1111111111111111,
                            "#46039f"
                          ],
                          [
                            0.2222222222222222,
                            "#7201a8"
                          ],
                          [
                            0.3333333333333333,
                            "#9c179e"
                          ],
                          [
                            0.4444444444444444,
                            "#bd3786"
                          ],
                          [
                            0.5555555555555556,
                            "#d8576b"
                          ],
                          [
                            0.6666666666666666,
                            "#ed7953"
                          ],
                          [
                            0.7777777777777778,
                            "#fb9f3a"
                          ],
                          [
                            0.8888888888888888,
                            "#fdca26"
                          ],
                          [
                            1,
                            "#f0f921"
                          ]
                        ],
                        "type": "histogram2d"
                      }
                    ],
                    "histogram2dcontour": [
                      {
                        "colorbar": {
                          "outlinewidth": 0,
                          "ticks": ""
                        },
                        "colorscale": [
                          [
                            0,
                            "#0d0887"
                          ],
                          [
                            0.1111111111111111,
                            "#46039f"
                          ],
                          [
                            0.2222222222222222,
                            "#7201a8"
                          ],
                          [
                            0.3333333333333333,
                            "#9c179e"
                          ],
                          [
                            0.4444444444444444,
                            "#bd3786"
                          ],
                          [
                            0.5555555555555556,
                            "#d8576b"
                          ],
                          [
                            0.6666666666666666,
                            "#ed7953"
                          ],
                          [
                            0.7777777777777778,
                            "#fb9f3a"
                          ],
                          [
                            0.8888888888888888,
                            "#fdca26"
                          ],
                          [
                            1,
                            "#f0f921"
                          ]
                        ],
                        "type": "histogram2dcontour"
                      }
                    ],
                    "mesh3d": [
                      {
                        "colorbar": {
                          "outlinewidth": 0,
                          "ticks": ""
                        },
                        "type": "mesh3d"
                      }
                    ],
                    "parcoords": [
                      {
                        "line": {
                          "colorbar": {
                            "outlinewidth": 0,
                            "ticks": ""
                          }
                        },
                        "type": "parcoords"
                      }
                    ],
                    "pie": [
                      {
                        "automargin": true,
                        "type": "pie"
                      }
                    ],
                    "scatter": [
                      {
                        "fillpattern": {
                          "fillmode": "overlay",
                          "size": 10,
                          "solidity": 0.2
                        },
                        "type": "scatter"
                      }
                    ],
                    "scatter3d": [
                      {
                        "line": {
                          "colorbar": {
                            "outlinewidth": 0,
                            "ticks": ""
                          }
                        },
                        "marker": {
                          "colorbar": {
                            "outlinewidth": 0,
                            "ticks": ""
                          }
                        },
                        "type": "scatter3d"
                      }
                    ],
                    "scattercarpet": [
                      {
                        "marker": {
                          "colorbar": {
                            "outlinewidth": 0,
                            "ticks": ""
                          }
                        },
                        "type": "scattercarpet"
                      }
                    ],
                    "scattergeo": [
                      {
                        "marker": {
                          "colorbar": {
                            "outlinewidth": 0,
                            "ticks": ""
                          }
                        },
                        "type": "scattergeo"
                      }
                    ],
                    "scattergl": [
                      {
                        "marker": {
                          "colorbar": {
                            "outlinewidth": 0,
                            "ticks": ""
                          }
                        },
                        "type": "scattergl"
                      }
                    ],
                    "scattermapbox": [
                      {
                        "marker": {
                          "colorbar": {
                            "outlinewidth": 0,
                            "ticks": ""
                          }
                        },
                        "type": "scattermapbox"
                      }
                    ],
                    "scatterpolar": [
                      {
                        "marker": {
                          "colorbar": {
                            "outlinewidth": 0,
                            "ticks": ""
                          }
                        },
                        "type": "scatterpolar"
                      }
                    ],
                    "scatterpolargl": [
                      {
                        "marker": {
                          "colorbar": {
                            "outlinewidth": 0,
                            "ticks": ""
                          }
                        },
                        "type": "scatterpolargl"
                      }
                    ],
                    "scatterternary": [
                      {
                        "marker": {
                          "colorbar": {
                            "outlinewidth": 0,
                            "ticks": ""
                          }
                        },
                        "type": "scatterternary"
                      }
                    ],
                    "surface": [
                      {
                        "colorbar": {
                          "outlinewidth": 0,
                          "ticks": ""
                        },
                        "colorscale": [
                          [
                            0,
                            "#0d0887"
                          ],
                          [
                            0.1111111111111111,
                            "#46039f"
                          ],
                          [
                            0.2222222222222222,
                            "#7201a8"
                          ],
                          [
                            0.3333333333333333,
                            "#9c179e"
                          ],
                          [
                            0.4444444444444444,
                            "#bd3786"
                          ],
                          [
                            0.5555555555555556,
                            "#d8576b"
                          ],
                          [
                            0.6666666666666666,
                            "#ed7953"
                          ],
                          [
                            0.7777777777777778,
                            "#fb9f3a"
                          ],
                          [
                            0.8888888888888888,
                            "#fdca26"
                          ],
                          [
                            1,
                            "#f0f921"
                          ]
                        ],
                        "type": "surface"
                      }
                    ],
                    "table": [
                      {
                        "cells": {
                          "fill": {
                            "color": "#EBF0F8"
                          },
                          "line": {
                            "color": "white"
                          }
                        },
                        "header": {
                          "fill": {
                            "color": "#C8D4E3"
                          },
                          "line": {
                            "color": "white"
                          }
                        },
                        "type": "table"
                      }
                    ]
                  },
                  "layout": {
                    "annotationdefaults": {
                      "arrowcolor": "#2a3f5f",
                      "arrowhead": 0,
                      "arrowwidth": 1
                    },
                    "autotypenumbers": "strict",
                    "coloraxis": {
                      "colorbar": {
                        "outlinewidth": 0,
                        "ticks": ""
                      }
                    },
                    "colorscale": {
                      "diverging": [
                        [
                          0,
                          "#8e0152"
                        ],
                        [
                          0.1,
                          "#c51b7d"
                        ],
                        [
                          0.2,
                          "#de77ae"
                        ],
                        [
                          0.3,
                          "#f1b6da"
                        ],
                        [
                          0.4,
                          "#fde0ef"
                        ],
                        [
                          0.5,
                          "#f7f7f7"
                        ],
                        [
                          0.6,
                          "#e6f5d0"
                        ],
                        [
                          0.7,
                          "#b8e186"
                        ],
                        [
                          0.8,
                          "#7fbc41"
                        ],
                        [
                          0.9,
                          "#4d9221"
                        ],
                        [
                          1,
                          "#276419"
                        ]
                      ],
                      "sequential": [
                        [
                          0,
                          "#0d0887"
                        ],
                        [
                          0.1111111111111111,
                          "#46039f"
                        ],
                        [
                          0.2222222222222222,
                          "#7201a8"
                        ],
                        [
                          0.3333333333333333,
                          "#9c179e"
                        ],
                        [
                          0.4444444444444444,
                          "#bd3786"
                        ],
                        [
                          0.5555555555555556,
                          "#d8576b"
                        ],
                        [
                          0.6666666666666666,
                          "#ed7953"
                        ],
                        [
                          0.7777777777777778,
                          "#fb9f3a"
                        ],
                        [
                          0.8888888888888888,
                          "#fdca26"
                        ],
                        [
                          1,
                          "#f0f921"
                        ]
                      ],
                      "sequentialminus": [
                        [
                          0,
                          "#0d0887"
                        ],
                        [
                          0.1111111111111111,
                          "#46039f"
                        ],
                        [
                          0.2222222222222222,
                          "#7201a8"
                        ],
                        [
                          0.3333333333333333,
                          "#9c179e"
                        ],
                        [
                          0.4444444444444444,
                          "#bd3786"
                        ],
                        [
                          0.5555555555555556,
                          "#d8576b"
                        ],
                        [
                          0.6666666666666666,
                          "#ed7953"
                        ],
                        [
                          0.7777777777777778,
                          "#fb9f3a"
                        ],
                        [
                          0.8888888888888888,
                          "#fdca26"
                        ],
                        [
                          1,
                          "#f0f921"
                        ]
                      ]
                    },
                    "colorway": [
                      "#636efa",
                      "#EF553B",
                      "#00cc96",
                      "#ab63fa",
                      "#FFA15A",
                      "#19d3f3",
                      "#FF6692",
                      "#B6E880",
                      "#FF97FF",
                      "#FECB52"
                    ],
                    "font": {
                      "color": "#2a3f5f"
                    },
                    "geo": {
                      "bgcolor": "white",
                      "lakecolor": "white",
                      "landcolor": "#E5ECF6",
                      "showlakes": true,
                      "showland": true,
                      "subunitcolor": "white"
                    },
                    "hoverlabel": {
                      "align": "left"
                    },
                    "hovermode": "closest",
                    "mapbox": {
                      "style": "light"
                    },
                    "paper_bgcolor": "white",
                    "plot_bgcolor": "#E5ECF6",
                    "polar": {
                      "angularaxis": {
                        "gridcolor": "white",
                        "linecolor": "white",
                        "ticks": ""
                      },
                      "bgcolor": "#E5ECF6",
                      "radialaxis": {
                        "gridcolor": "white",
                        "linecolor": "white",
                        "ticks": ""
                      }
                    },
                    "scene": {
                      "xaxis": {
                        "backgroundcolor": "#E5ECF6",
                        "gridcolor": "white",
                        "gridwidth": 2,
                        "linecolor": "white",
                        "showbackground": true,
                        "ticks": "",
                        "zerolinecolor": "white"
                      },
                      "yaxis": {
                        "backgroundcolor": "#E5ECF6",
                        "gridcolor": "white",
                        "gridwidth": 2,
                        "linecolor": "white",
                        "showbackground": true,
                        "ticks": "",
                        "zerolinecolor": "white"
                      },
                      "zaxis": {
                        "backgroundcolor": "#E5ECF6",
                        "gridcolor": "white",
                        "gridwidth": 2,
                        "linecolor": "white",
                        "showbackground": true,
                        "ticks": "",
                        "zerolinecolor": "white"
                      }
                    },
                    "shapedefaults": {
                      "line": {
                        "color": "#2a3f5f"
                      }
                    },
                    "ternary": {
                      "aaxis": {
                        "gridcolor": "white",
                        "linecolor": "white",
                        "ticks": ""
                      },
                      "baxis": {
                        "gridcolor": "white",
                        "linecolor": "white",
                        "ticks": ""
                      },
                      "bgcolor": "#E5ECF6",
                      "caxis": {
                        "gridcolor": "white",
                        "linecolor": "white",
                        "ticks": ""
                      }
                    },
                    "title": {
                      "x": 0.05
                    },
                    "xaxis": {
                      "automargin": true,
                      "gridcolor": "white",
                      "linecolor": "white",
                      "ticks": "",
                      "title": {
                        "standoff": 15
                      },
                      "zerolinecolor": "white",
                      "zerolinewidth": 2
                    },
                    "yaxis": {
                      "automargin": true,
                      "gridcolor": "white",
                      "linecolor": "white",
                      "ticks": "",
                      "title": {
                        "standoff": 15
                      },
                      "zerolinecolor": "white",
                      "zerolinewidth": 2
                    }
                  }
                },
                "xaxis": {
                  "anchor": "y",
                  "domain": [
                    0,
                    1
                  ],
                  "title": {
                    "text": "Age"
                  }
                },
                "yaxis": {
                  "anchor": "x",
                  "domain": [
                    0,
                    1
                  ],
                  "title": {
                    "text": "Pregnancies"
                  }
                }
              }
            }
          },
          "metadata": {},
          "output_type": "display_data"
        }
      ],
      "source": [
        "# create the scatter plot to see Relationship between Age and Pregnancies\n",
        "fig = px.scatter(diabetes_dataset, x='Age', y='Pregnancies')\n",
        "\n",
        "# display the plot\n",
        "fig.show()"
      ]
    },
    {
      "cell_type": "code",
      "execution_count": 53,
      "metadata": {},
      "outputs": [
        {
          "data": {
            "application/vnd.plotly.v1+json": {
              "config": {
                "plotlyServerURL": "https://plot.ly"
              },
              "data": [
                {
                  "domain": {
                    "x": [
                      0,
                      1
                    ],
                    "y": [
                      0,
                      1
                    ]
                  },
                  "hovertemplate": "label=%{label}<br>value=%{value}<extra></extra>",
                  "labels": [
                    0,
                    1
                  ],
                  "legendgroup": "",
                  "name": "",
                  "showlegend": true,
                  "type": "pie",
                  "values": [
                    500,
                    268
                  ]
                }
              ],
              "layout": {
                "legend": {
                  "tracegroupgap": 0
                },
                "margin": {
                  "t": 60
                },
                "template": {
                  "data": {
                    "bar": [
                      {
                        "error_x": {
                          "color": "#2a3f5f"
                        },
                        "error_y": {
                          "color": "#2a3f5f"
                        },
                        "marker": {
                          "line": {
                            "color": "#E5ECF6",
                            "width": 0.5
                          },
                          "pattern": {
                            "fillmode": "overlay",
                            "size": 10,
                            "solidity": 0.2
                          }
                        },
                        "type": "bar"
                      }
                    ],
                    "barpolar": [
                      {
                        "marker": {
                          "line": {
                            "color": "#E5ECF6",
                            "width": 0.5
                          },
                          "pattern": {
                            "fillmode": "overlay",
                            "size": 10,
                            "solidity": 0.2
                          }
                        },
                        "type": "barpolar"
                      }
                    ],
                    "carpet": [
                      {
                        "aaxis": {
                          "endlinecolor": "#2a3f5f",
                          "gridcolor": "white",
                          "linecolor": "white",
                          "minorgridcolor": "white",
                          "startlinecolor": "#2a3f5f"
                        },
                        "baxis": {
                          "endlinecolor": "#2a3f5f",
                          "gridcolor": "white",
                          "linecolor": "white",
                          "minorgridcolor": "white",
                          "startlinecolor": "#2a3f5f"
                        },
                        "type": "carpet"
                      }
                    ],
                    "choropleth": [
                      {
                        "colorbar": {
                          "outlinewidth": 0,
                          "ticks": ""
                        },
                        "type": "choropleth"
                      }
                    ],
                    "contour": [
                      {
                        "colorbar": {
                          "outlinewidth": 0,
                          "ticks": ""
                        },
                        "colorscale": [
                          [
                            0,
                            "#0d0887"
                          ],
                          [
                            0.1111111111111111,
                            "#46039f"
                          ],
                          [
                            0.2222222222222222,
                            "#7201a8"
                          ],
                          [
                            0.3333333333333333,
                            "#9c179e"
                          ],
                          [
                            0.4444444444444444,
                            "#bd3786"
                          ],
                          [
                            0.5555555555555556,
                            "#d8576b"
                          ],
                          [
                            0.6666666666666666,
                            "#ed7953"
                          ],
                          [
                            0.7777777777777778,
                            "#fb9f3a"
                          ],
                          [
                            0.8888888888888888,
                            "#fdca26"
                          ],
                          [
                            1,
                            "#f0f921"
                          ]
                        ],
                        "type": "contour"
                      }
                    ],
                    "contourcarpet": [
                      {
                        "colorbar": {
                          "outlinewidth": 0,
                          "ticks": ""
                        },
                        "type": "contourcarpet"
                      }
                    ],
                    "heatmap": [
                      {
                        "colorbar": {
                          "outlinewidth": 0,
                          "ticks": ""
                        },
                        "colorscale": [
                          [
                            0,
                            "#0d0887"
                          ],
                          [
                            0.1111111111111111,
                            "#46039f"
                          ],
                          [
                            0.2222222222222222,
                            "#7201a8"
                          ],
                          [
                            0.3333333333333333,
                            "#9c179e"
                          ],
                          [
                            0.4444444444444444,
                            "#bd3786"
                          ],
                          [
                            0.5555555555555556,
                            "#d8576b"
                          ],
                          [
                            0.6666666666666666,
                            "#ed7953"
                          ],
                          [
                            0.7777777777777778,
                            "#fb9f3a"
                          ],
                          [
                            0.8888888888888888,
                            "#fdca26"
                          ],
                          [
                            1,
                            "#f0f921"
                          ]
                        ],
                        "type": "heatmap"
                      }
                    ],
                    "heatmapgl": [
                      {
                        "colorbar": {
                          "outlinewidth": 0,
                          "ticks": ""
                        },
                        "colorscale": [
                          [
                            0,
                            "#0d0887"
                          ],
                          [
                            0.1111111111111111,
                            "#46039f"
                          ],
                          [
                            0.2222222222222222,
                            "#7201a8"
                          ],
                          [
                            0.3333333333333333,
                            "#9c179e"
                          ],
                          [
                            0.4444444444444444,
                            "#bd3786"
                          ],
                          [
                            0.5555555555555556,
                            "#d8576b"
                          ],
                          [
                            0.6666666666666666,
                            "#ed7953"
                          ],
                          [
                            0.7777777777777778,
                            "#fb9f3a"
                          ],
                          [
                            0.8888888888888888,
                            "#fdca26"
                          ],
                          [
                            1,
                            "#f0f921"
                          ]
                        ],
                        "type": "heatmapgl"
                      }
                    ],
                    "histogram": [
                      {
                        "marker": {
                          "pattern": {
                            "fillmode": "overlay",
                            "size": 10,
                            "solidity": 0.2
                          }
                        },
                        "type": "histogram"
                      }
                    ],
                    "histogram2d": [
                      {
                        "colorbar": {
                          "outlinewidth": 0,
                          "ticks": ""
                        },
                        "colorscale": [
                          [
                            0,
                            "#0d0887"
                          ],
                          [
                            0.1111111111111111,
                            "#46039f"
                          ],
                          [
                            0.2222222222222222,
                            "#7201a8"
                          ],
                          [
                            0.3333333333333333,
                            "#9c179e"
                          ],
                          [
                            0.4444444444444444,
                            "#bd3786"
                          ],
                          [
                            0.5555555555555556,
                            "#d8576b"
                          ],
                          [
                            0.6666666666666666,
                            "#ed7953"
                          ],
                          [
                            0.7777777777777778,
                            "#fb9f3a"
                          ],
                          [
                            0.8888888888888888,
                            "#fdca26"
                          ],
                          [
                            1,
                            "#f0f921"
                          ]
                        ],
                        "type": "histogram2d"
                      }
                    ],
                    "histogram2dcontour": [
                      {
                        "colorbar": {
                          "outlinewidth": 0,
                          "ticks": ""
                        },
                        "colorscale": [
                          [
                            0,
                            "#0d0887"
                          ],
                          [
                            0.1111111111111111,
                            "#46039f"
                          ],
                          [
                            0.2222222222222222,
                            "#7201a8"
                          ],
                          [
                            0.3333333333333333,
                            "#9c179e"
                          ],
                          [
                            0.4444444444444444,
                            "#bd3786"
                          ],
                          [
                            0.5555555555555556,
                            "#d8576b"
                          ],
                          [
                            0.6666666666666666,
                            "#ed7953"
                          ],
                          [
                            0.7777777777777778,
                            "#fb9f3a"
                          ],
                          [
                            0.8888888888888888,
                            "#fdca26"
                          ],
                          [
                            1,
                            "#f0f921"
                          ]
                        ],
                        "type": "histogram2dcontour"
                      }
                    ],
                    "mesh3d": [
                      {
                        "colorbar": {
                          "outlinewidth": 0,
                          "ticks": ""
                        },
                        "type": "mesh3d"
                      }
                    ],
                    "parcoords": [
                      {
                        "line": {
                          "colorbar": {
                            "outlinewidth": 0,
                            "ticks": ""
                          }
                        },
                        "type": "parcoords"
                      }
                    ],
                    "pie": [
                      {
                        "automargin": true,
                        "type": "pie"
                      }
                    ],
                    "scatter": [
                      {
                        "fillpattern": {
                          "fillmode": "overlay",
                          "size": 10,
                          "solidity": 0.2
                        },
                        "type": "scatter"
                      }
                    ],
                    "scatter3d": [
                      {
                        "line": {
                          "colorbar": {
                            "outlinewidth": 0,
                            "ticks": ""
                          }
                        },
                        "marker": {
                          "colorbar": {
                            "outlinewidth": 0,
                            "ticks": ""
                          }
                        },
                        "type": "scatter3d"
                      }
                    ],
                    "scattercarpet": [
                      {
                        "marker": {
                          "colorbar": {
                            "outlinewidth": 0,
                            "ticks": ""
                          }
                        },
                        "type": "scattercarpet"
                      }
                    ],
                    "scattergeo": [
                      {
                        "marker": {
                          "colorbar": {
                            "outlinewidth": 0,
                            "ticks": ""
                          }
                        },
                        "type": "scattergeo"
                      }
                    ],
                    "scattergl": [
                      {
                        "marker": {
                          "colorbar": {
                            "outlinewidth": 0,
                            "ticks": ""
                          }
                        },
                        "type": "scattergl"
                      }
                    ],
                    "scattermapbox": [
                      {
                        "marker": {
                          "colorbar": {
                            "outlinewidth": 0,
                            "ticks": ""
                          }
                        },
                        "type": "scattermapbox"
                      }
                    ],
                    "scatterpolar": [
                      {
                        "marker": {
                          "colorbar": {
                            "outlinewidth": 0,
                            "ticks": ""
                          }
                        },
                        "type": "scatterpolar"
                      }
                    ],
                    "scatterpolargl": [
                      {
                        "marker": {
                          "colorbar": {
                            "outlinewidth": 0,
                            "ticks": ""
                          }
                        },
                        "type": "scatterpolargl"
                      }
                    ],
                    "scatterternary": [
                      {
                        "marker": {
                          "colorbar": {
                            "outlinewidth": 0,
                            "ticks": ""
                          }
                        },
                        "type": "scatterternary"
                      }
                    ],
                    "surface": [
                      {
                        "colorbar": {
                          "outlinewidth": 0,
                          "ticks": ""
                        },
                        "colorscale": [
                          [
                            0,
                            "#0d0887"
                          ],
                          [
                            0.1111111111111111,
                            "#46039f"
                          ],
                          [
                            0.2222222222222222,
                            "#7201a8"
                          ],
                          [
                            0.3333333333333333,
                            "#9c179e"
                          ],
                          [
                            0.4444444444444444,
                            "#bd3786"
                          ],
                          [
                            0.5555555555555556,
                            "#d8576b"
                          ],
                          [
                            0.6666666666666666,
                            "#ed7953"
                          ],
                          [
                            0.7777777777777778,
                            "#fb9f3a"
                          ],
                          [
                            0.8888888888888888,
                            "#fdca26"
                          ],
                          [
                            1,
                            "#f0f921"
                          ]
                        ],
                        "type": "surface"
                      }
                    ],
                    "table": [
                      {
                        "cells": {
                          "fill": {
                            "color": "#EBF0F8"
                          },
                          "line": {
                            "color": "white"
                          }
                        },
                        "header": {
                          "fill": {
                            "color": "#C8D4E3"
                          },
                          "line": {
                            "color": "white"
                          }
                        },
                        "type": "table"
                      }
                    ]
                  },
                  "layout": {
                    "annotationdefaults": {
                      "arrowcolor": "#2a3f5f",
                      "arrowhead": 0,
                      "arrowwidth": 1
                    },
                    "autotypenumbers": "strict",
                    "coloraxis": {
                      "colorbar": {
                        "outlinewidth": 0,
                        "ticks": ""
                      }
                    },
                    "colorscale": {
                      "diverging": [
                        [
                          0,
                          "#8e0152"
                        ],
                        [
                          0.1,
                          "#c51b7d"
                        ],
                        [
                          0.2,
                          "#de77ae"
                        ],
                        [
                          0.3,
                          "#f1b6da"
                        ],
                        [
                          0.4,
                          "#fde0ef"
                        ],
                        [
                          0.5,
                          "#f7f7f7"
                        ],
                        [
                          0.6,
                          "#e6f5d0"
                        ],
                        [
                          0.7,
                          "#b8e186"
                        ],
                        [
                          0.8,
                          "#7fbc41"
                        ],
                        [
                          0.9,
                          "#4d9221"
                        ],
                        [
                          1,
                          "#276419"
                        ]
                      ],
                      "sequential": [
                        [
                          0,
                          "#0d0887"
                        ],
                        [
                          0.1111111111111111,
                          "#46039f"
                        ],
                        [
                          0.2222222222222222,
                          "#7201a8"
                        ],
                        [
                          0.3333333333333333,
                          "#9c179e"
                        ],
                        [
                          0.4444444444444444,
                          "#bd3786"
                        ],
                        [
                          0.5555555555555556,
                          "#d8576b"
                        ],
                        [
                          0.6666666666666666,
                          "#ed7953"
                        ],
                        [
                          0.7777777777777778,
                          "#fb9f3a"
                        ],
                        [
                          0.8888888888888888,
                          "#fdca26"
                        ],
                        [
                          1,
                          "#f0f921"
                        ]
                      ],
                      "sequentialminus": [
                        [
                          0,
                          "#0d0887"
                        ],
                        [
                          0.1111111111111111,
                          "#46039f"
                        ],
                        [
                          0.2222222222222222,
                          "#7201a8"
                        ],
                        [
                          0.3333333333333333,
                          "#9c179e"
                        ],
                        [
                          0.4444444444444444,
                          "#bd3786"
                        ],
                        [
                          0.5555555555555556,
                          "#d8576b"
                        ],
                        [
                          0.6666666666666666,
                          "#ed7953"
                        ],
                        [
                          0.7777777777777778,
                          "#fb9f3a"
                        ],
                        [
                          0.8888888888888888,
                          "#fdca26"
                        ],
                        [
                          1,
                          "#f0f921"
                        ]
                      ]
                    },
                    "colorway": [
                      "#636efa",
                      "#EF553B",
                      "#00cc96",
                      "#ab63fa",
                      "#FFA15A",
                      "#19d3f3",
                      "#FF6692",
                      "#B6E880",
                      "#FF97FF",
                      "#FECB52"
                    ],
                    "font": {
                      "color": "#2a3f5f"
                    },
                    "geo": {
                      "bgcolor": "white",
                      "lakecolor": "white",
                      "landcolor": "#E5ECF6",
                      "showlakes": true,
                      "showland": true,
                      "subunitcolor": "white"
                    },
                    "hoverlabel": {
                      "align": "left"
                    },
                    "hovermode": "closest",
                    "mapbox": {
                      "style": "light"
                    },
                    "paper_bgcolor": "white",
                    "plot_bgcolor": "#E5ECF6",
                    "polar": {
                      "angularaxis": {
                        "gridcolor": "white",
                        "linecolor": "white",
                        "ticks": ""
                      },
                      "bgcolor": "#E5ECF6",
                      "radialaxis": {
                        "gridcolor": "white",
                        "linecolor": "white",
                        "ticks": ""
                      }
                    },
                    "scene": {
                      "xaxis": {
                        "backgroundcolor": "#E5ECF6",
                        "gridcolor": "white",
                        "gridwidth": 2,
                        "linecolor": "white",
                        "showbackground": true,
                        "ticks": "",
                        "zerolinecolor": "white"
                      },
                      "yaxis": {
                        "backgroundcolor": "#E5ECF6",
                        "gridcolor": "white",
                        "gridwidth": 2,
                        "linecolor": "white",
                        "showbackground": true,
                        "ticks": "",
                        "zerolinecolor": "white"
                      },
                      "zaxis": {
                        "backgroundcolor": "#E5ECF6",
                        "gridcolor": "white",
                        "gridwidth": 2,
                        "linecolor": "white",
                        "showbackground": true,
                        "ticks": "",
                        "zerolinecolor": "white"
                      }
                    },
                    "shapedefaults": {
                      "line": {
                        "color": "#2a3f5f"
                      }
                    },
                    "ternary": {
                      "aaxis": {
                        "gridcolor": "white",
                        "linecolor": "white",
                        "ticks": ""
                      },
                      "baxis": {
                        "gridcolor": "white",
                        "linecolor": "white",
                        "ticks": ""
                      },
                      "bgcolor": "#E5ECF6",
                      "caxis": {
                        "gridcolor": "white",
                        "linecolor": "white",
                        "ticks": ""
                      }
                    },
                    "title": {
                      "x": 0.05
                    },
                    "xaxis": {
                      "automargin": true,
                      "gridcolor": "white",
                      "linecolor": "white",
                      "ticks": "",
                      "title": {
                        "standoff": 15
                      },
                      "zerolinecolor": "white",
                      "zerolinewidth": 2
                    },
                    "yaxis": {
                      "automargin": true,
                      "gridcolor": "white",
                      "linecolor": "white",
                      "ticks": "",
                      "title": {
                        "standoff": 15
                      },
                      "zerolinecolor": "white",
                      "zerolinewidth": 2
                    }
                  }
                }
              }
            }
          },
          "metadata": {},
          "output_type": "display_data"
        }
      ],
      "source": [
        "# See the Number of Outcomes in the Dataset for more information\n",
        "outcome_counts = diabetes_dataset['Outcome'].value_counts()\n",
        "\n",
        "# create the pie chart\n",
        "fig = px.pie(values=outcome_counts, names=outcome_counts.index)\n",
        "\n",
        "# display the plot\n",
        "fig.show()"
      ]
    },
    {
      "cell_type": "code",
      "execution_count": 55,
      "metadata": {},
      "outputs": [
        {
          "data": {
            "application/vnd.plotly.v1+json": {
              "config": {
                "plotlyServerURL": "https://plot.ly"
              },
              "data": [
                {
                  "hovertemplate": "Age=%{x}<br>BMI=%{y}<extra></extra>",
                  "legendgroup": "",
                  "marker": {
                    "color": "#636efa",
                    "symbol": "circle"
                  },
                  "mode": "markers",
                  "name": "",
                  "orientation": "v",
                  "showlegend": false,
                  "type": "scatter",
                  "x": [
                    50,
                    31,
                    32,
                    21,
                    33,
                    30,
                    26,
                    29,
                    53,
                    54,
                    30,
                    34,
                    57,
                    59,
                    51,
                    32,
                    31,
                    31,
                    33,
                    32,
                    27,
                    50,
                    41,
                    29,
                    51,
                    41,
                    43,
                    22,
                    57,
                    38,
                    60,
                    28,
                    22,
                    28,
                    45,
                    33,
                    35,
                    46,
                    27,
                    56,
                    26,
                    37,
                    48,
                    54,
                    40,
                    25,
                    29,
                    22,
                    31,
                    24,
                    22,
                    26,
                    30,
                    58,
                    42,
                    21,
                    41,
                    31,
                    44,
                    22,
                    21,
                    39,
                    36,
                    24,
                    42,
                    32,
                    38,
                    54,
                    25,
                    27,
                    28,
                    26,
                    42,
                    23,
                    22,
                    22,
                    41,
                    27,
                    26,
                    24,
                    22,
                    22,
                    36,
                    22,
                    37,
                    27,
                    45,
                    26,
                    43,
                    24,
                    21,
                    34,
                    42,
                    60,
                    21,
                    40,
                    24,
                    22,
                    23,
                    31,
                    33,
                    22,
                    21,
                    24,
                    27,
                    21,
                    27,
                    37,
                    25,
                    24,
                    24,
                    46,
                    23,
                    25,
                    39,
                    61,
                    38,
                    25,
                    22,
                    21,
                    25,
                    24,
                    23,
                    69,
                    23,
                    26,
                    30,
                    23,
                    40,
                    62,
                    33,
                    33,
                    30,
                    39,
                    26,
                    31,
                    21,
                    22,
                    29,
                    28,
                    55,
                    38,
                    22,
                    42,
                    23,
                    21,
                    41,
                    34,
                    65,
                    22,
                    24,
                    37,
                    42,
                    23,
                    43,
                    36,
                    21,
                    23,
                    22,
                    47,
                    36,
                    45,
                    27,
                    21,
                    32,
                    41,
                    22,
                    34,
                    29,
                    29,
                    36,
                    29,
                    25,
                    23,
                    33,
                    36,
                    42,
                    26,
                    47,
                    37,
                    32,
                    23,
                    21,
                    27,
                    40,
                    41,
                    60,
                    33,
                    31,
                    25,
                    21,
                    40,
                    36,
                    40,
                    42,
                    29,
                    21,
                    23,
                    26,
                    29,
                    21,
                    28,
                    32,
                    27,
                    55,
                    27,
                    57,
                    52,
                    21,
                    41,
                    25,
                    24,
                    60,
                    24,
                    36,
                    38,
                    25,
                    32,
                    32,
                    41,
                    21,
                    66,
                    37,
                    61,
                    26,
                    22,
                    26,
                    24,
                    31,
                    24,
                    22,
                    46,
                    22,
                    29,
                    23,
                    26,
                    51,
                    23,
                    32,
                    27,
                    21,
                    22,
                    22,
                    33,
                    29,
                    49,
                    41,
                    23,
                    34,
                    23,
                    42,
                    27,
                    24,
                    25,
                    44,
                    21,
                    30,
                    25,
                    24,
                    51,
                    34,
                    27,
                    24,
                    63,
                    35,
                    43,
                    25,
                    24,
                    21,
                    28,
                    38,
                    21,
                    40,
                    21,
                    52,
                    25,
                    29,
                    23,
                    57,
                    22,
                    28,
                    39,
                    37,
                    47,
                    52,
                    51,
                    34,
                    29,
                    26,
                    33,
                    21,
                    25,
                    31,
                    24,
                    65,
                    28,
                    29,
                    24,
                    46,
                    58,
                    30,
                    25,
                    35,
                    28,
                    37,
                    29,
                    47,
                    21,
                    25,
                    30,
                    41,
                    22,
                    27,
                    25,
                    43,
                    26,
                    30,
                    29,
                    28,
                    59,
                    31,
                    25,
                    36,
                    43,
                    21,
                    24,
                    30,
                    37,
                    23,
                    37,
                    46,
                    25,
                    41,
                    44,
                    22,
                    26,
                    44,
                    44,
                    33,
                    41,
                    22,
                    36,
                    22,
                    33,
                    57,
                    49,
                    22,
                    23,
                    26,
                    37,
                    29,
                    30,
                    46,
                    24,
                    21,
                    49,
                    28,
                    44,
                    48,
                    29,
                    29,
                    63,
                    65,
                    67,
                    30,
                    30,
                    29,
                    21,
                    22,
                    45,
                    25,
                    21,
                    21,
                    25,
                    28,
                    58,
                    22,
                    22,
                    32,
                    35,
                    24,
                    22,
                    21,
                    25,
                    25,
                    24,
                    35,
                    45,
                    58,
                    28,
                    42,
                    27,
                    21,
                    37,
                    31,
                    25,
                    39,
                    22,
                    25,
                    25,
                    31,
                    55,
                    35,
                    38,
                    41,
                    26,
                    46,
                    25,
                    39,
                    28,
                    28,
                    25,
                    22,
                    21,
                    21,
                    22,
                    22,
                    37,
                    27,
                    28,
                    26,
                    21,
                    21,
                    21,
                    36,
                    31,
                    25,
                    38,
                    26,
                    43,
                    23,
                    38,
                    22,
                    29,
                    36,
                    29,
                    41,
                    28,
                    21,
                    31,
                    41,
                    22,
                    24,
                    33,
                    30,
                    25,
                    28,
                    26,
                    22,
                    26,
                    23,
                    23,
                    25,
                    72,
                    24,
                    38,
                    62,
                    24,
                    51,
                    81,
                    48,
                    26,
                    39,
                    37,
                    34,
                    21,
                    22,
                    25,
                    38,
                    27,
                    28,
                    22,
                    22,
                    50,
                    24,
                    59,
                    29,
                    31,
                    39,
                    63,
                    35,
                    29,
                    28,
                    23,
                    31,
                    24,
                    21,
                    58,
                    28,
                    67,
                    24,
                    42,
                    33,
                    45,
                    22,
                    66,
                    30,
                    25,
                    55,
                    39,
                    21,
                    28,
                    41,
                    41,
                    40,
                    38,
                    35,
                    21,
                    21,
                    64,
                    46,
                    21,
                    58,
                    22,
                    24,
                    28,
                    53,
                    51,
                    41,
                    60,
                    25,
                    26,
                    26,
                    45,
                    24,
                    21,
                    21,
                    24,
                    22,
                    31,
                    22,
                    24,
                    29,
                    31,
                    24,
                    23,
                    46,
                    67,
                    23,
                    32,
                    43,
                    27,
                    56,
                    25,
                    29,
                    37,
                    53,
                    28,
                    50,
                    37,
                    21,
                    25,
                    66,
                    23,
                    28,
                    37,
                    30,
                    58,
                    42,
                    35,
                    54,
                    28,
                    24,
                    32,
                    27,
                    22,
                    21,
                    46,
                    37,
                    33,
                    39,
                    21,
                    22,
                    22,
                    23,
                    25,
                    35,
                    21,
                    36,
                    62,
                    21,
                    27,
                    62,
                    42,
                    52,
                    22,
                    41,
                    29,
                    52,
                    25,
                    45,
                    24,
                    44,
                    25,
                    34,
                    22,
                    46,
                    21,
                    38,
                    26,
                    24,
                    28,
                    30,
                    54,
                    36,
                    21,
                    22,
                    25,
                    27,
                    23,
                    24,
                    36,
                    40,
                    26,
                    50,
                    27,
                    30,
                    23,
                    50,
                    24,
                    28,
                    28,
                    45,
                    21,
                    21,
                    29,
                    21,
                    21,
                    45,
                    21,
                    34,
                    24,
                    23,
                    22,
                    31,
                    38,
                    48,
                    23,
                    32,
                    28,
                    27,
                    24,
                    50,
                    31,
                    27,
                    30,
                    33,
                    22,
                    42,
                    23,
                    23,
                    27,
                    28,
                    27,
                    22,
                    25,
                    22,
                    41,
                    51,
                    27,
                    54,
                    22,
                    43,
                    40,
                    40,
                    24,
                    70,
                    40,
                    43,
                    45,
                    49,
                    21,
                    47,
                    22,
                    68,
                    31,
                    53,
                    25,
                    25,
                    23,
                    22,
                    26,
                    22,
                    27,
                    69,
                    25,
                    22,
                    29,
                    23,
                    46,
                    34,
                    44,
                    23,
                    43,
                    25,
                    43,
                    31,
                    22,
                    28,
                    26,
                    26,
                    49,
                    52,
                    41,
                    27,
                    28,
                    30,
                    22,
                    45,
                    23,
                    24,
                    40,
                    38,
                    21,
                    32,
                    34,
                    31,
                    56,
                    24,
                    52,
                    34,
                    21,
                    42,
                    42,
                    45,
                    38,
                    25,
                    22,
                    22,
                    22,
                    34,
                    22,
                    24,
                    22,
                    53,
                    28,
                    21,
                    42,
                    21,
                    42,
                    48,
                    26,
                    22,
                    45,
                    39,
                    46,
                    27,
                    32,
                    36,
                    50,
                    22,
                    28,
                    25,
                    26,
                    45,
                    37,
                    39,
                    52,
                    26,
                    66,
                    22,
                    43,
                    33,
                    63,
                    27,
                    30,
                    47,
                    23
                  ],
                  "xaxis": "x",
                  "y": [
                    33.6,
                    26.6,
                    23.3,
                    28.1,
                    43.1,
                    25.6,
                    31,
                    35.3,
                    30.5,
                    0,
                    37.6,
                    38,
                    27.1,
                    30.1,
                    25.8,
                    30,
                    45.8,
                    29.6,
                    43.3,
                    34.6,
                    39.3,
                    35.4,
                    39.8,
                    29,
                    36.6,
                    31.1,
                    39.4,
                    23.2,
                    22.2,
                    34.1,
                    36,
                    31.6,
                    24.8,
                    19.9,
                    27.6,
                    24,
                    33.2,
                    32.9,
                    38.2,
                    37.1,
                    34,
                    40.2,
                    22.7,
                    45.4,
                    27.4,
                    42,
                    29.7,
                    28,
                    39.1,
                    0,
                    19.4,
                    24.2,
                    24.4,
                    33.7,
                    34.7,
                    23,
                    37.7,
                    46.8,
                    40.5,
                    41.5,
                    0,
                    32.9,
                    25,
                    25.4,
                    32.8,
                    29,
                    32.5,
                    42.7,
                    19.6,
                    28.9,
                    32.9,
                    28.6,
                    43.4,
                    35.1,
                    32,
                    24.7,
                    32.6,
                    37.7,
                    43.2,
                    25,
                    22.4,
                    0,
                    29.3,
                    24.6,
                    48.8,
                    32.4,
                    36.6,
                    38.5,
                    37.1,
                    26.5,
                    19.1,
                    32,
                    46.7,
                    23.8,
                    24.7,
                    33.9,
                    31.6,
                    20.4,
                    28.7,
                    49.7,
                    39,
                    26.1,
                    22.5,
                    26.6,
                    39.6,
                    28.7,
                    22.4,
                    29.5,
                    34.3,
                    37.4,
                    33.3,
                    34,
                    31.2,
                    34,
                    30.5,
                    31.2,
                    34,
                    33.7,
                    28.2,
                    23.2,
                    53.2,
                    34.2,
                    33.6,
                    26.8,
                    33.3,
                    55,
                    42.9,
                    33.3,
                    34.5,
                    27.9,
                    29.7,
                    33.3,
                    34.5,
                    38.3,
                    21.1,
                    33.8,
                    30.8,
                    28.7,
                    31.2,
                    36.9,
                    21.1,
                    39.5,
                    32.5,
                    32.4,
                    32.8,
                    0,
                    32.8,
                    30.5,
                    33.7,
                    27.3,
                    37.4,
                    21.9,
                    34.3,
                    40.6,
                    47.9,
                    50,
                    24.6,
                    25.2,
                    29,
                    40.9,
                    29.7,
                    37.2,
                    44.2,
                    29.7,
                    31.6,
                    29.9,
                    32.5,
                    29.6,
                    31.9,
                    28.4,
                    30.8,
                    35.4,
                    28.9,
                    43.5,
                    29.7,
                    32.7,
                    31.2,
                    67.1,
                    45,
                    39.1,
                    23.2,
                    34.9,
                    27.7,
                    26.8,
                    27.6,
                    35.9,
                    30.1,
                    32,
                    27.9,
                    31.6,
                    22.6,
                    33.1,
                    30.4,
                    52.3,
                    24.4,
                    39.4,
                    24.3,
                    22.9,
                    34.8,
                    30.9,
                    31,
                    40.1,
                    27.3,
                    20.4,
                    37.7,
                    23.9,
                    37.5,
                    37.7,
                    33.2,
                    35.5,
                    27.7,
                    42.8,
                    34.2,
                    42.6,
                    34.2,
                    41.8,
                    35.8,
                    30,
                    29,
                    37.8,
                    34.6,
                    31.6,
                    25.2,
                    28.8,
                    23.6,
                    34.6,
                    35.7,
                    37.2,
                    36.7,
                    45.2,
                    44,
                    46.2,
                    25.4,
                    35,
                    29.7,
                    43.6,
                    35.9,
                    44.1,
                    30.8,
                    18.4,
                    29.2,
                    33.1,
                    25.6,
                    27.1,
                    38.2,
                    30,
                    31.2,
                    52.3,
                    35.4,
                    30.1,
                    31.2,
                    28,
                    24.4,
                    35.8,
                    27.6,
                    33.6,
                    30.1,
                    28.7,
                    25.9,
                    33.3,
                    30.9,
                    30,
                    32.1,
                    32.4,
                    32,
                    33.6,
                    36.3,
                    40,
                    25.1,
                    27.5,
                    45.6,
                    25.2,
                    23,
                    33.2,
                    34.2,
                    40.5,
                    26.5,
                    27.8,
                    24.9,
                    25.3,
                    37.9,
                    35.9,
                    32.4,
                    30.4,
                    27,
                    26,
                    38.7,
                    45.6,
                    20.8,
                    36.1,
                    36.9,
                    36.6,
                    43.3,
                    40.5,
                    21.9,
                    35.5,
                    28,
                    30.7,
                    36.6,
                    23.6,
                    32.3,
                    31.6,
                    35.8,
                    52.9,
                    21,
                    39.7,
                    25.5,
                    24.8,
                    30.5,
                    32.9,
                    26.2,
                    39.4,
                    26.6,
                    29.5,
                    35.9,
                    34.1,
                    19.3,
                    30.5,
                    38.1,
                    23.5,
                    27.5,
                    31.6,
                    27.4,
                    26.8,
                    35.7,
                    25.6,
                    35.1,
                    35.1,
                    45.5,
                    30.8,
                    23.1,
                    32.7,
                    43.3,
                    23.6,
                    23.9,
                    47.9,
                    33.8,
                    31.2,
                    34.2,
                    39.9,
                    25.9,
                    25.9,
                    32,
                    34.7,
                    36.8,
                    38.5,
                    28.7,
                    23.5,
                    21.8,
                    41,
                    42.2,
                    31.2,
                    34.4,
                    27.2,
                    42.7,
                    30.4,
                    33.3,
                    39.9,
                    35.3,
                    36.5,
                    31.2,
                    29.8,
                    39.2,
                    38.5,
                    34.9,
                    34,
                    27.6,
                    21,
                    27.5,
                    32.8,
                    38.4,
                    0,
                    35.8,
                    34.9,
                    36.2,
                    39.2,
                    25.2,
                    37.2,
                    48.3,
                    43.4,
                    30.8,
                    20,
                    25.4,
                    25.1,
                    24.3,
                    22.3,
                    32.3,
                    43.3,
                    32,
                    31.6,
                    32,
                    45.7,
                    23.7,
                    22.1,
                    32.9,
                    27.7,
                    24.7,
                    34.3,
                    21.1,
                    34.9,
                    32,
                    24.2,
                    35,
                    31.6,
                    32.9,
                    42.1,
                    28.9,
                    21.9,
                    25.9,
                    42.4,
                    35.7,
                    34.4,
                    42.4,
                    26.2,
                    34.6,
                    35.7,
                    27.2,
                    38.5,
                    18.2,
                    26.4,
                    45.3,
                    26,
                    40.6,
                    30.8,
                    42.9,
                    37,
                    0,
                    34.1,
                    40.6,
                    35,
                    22.2,
                    30.4,
                    30,
                    25.6,
                    24.5,
                    42.4,
                    37.4,
                    29.9,
                    18.2,
                    36.8,
                    34.3,
                    32.2,
                    33.2,
                    30.5,
                    29.7,
                    59.4,
                    25.3,
                    36.5,
                    33.6,
                    30.5,
                    21.2,
                    28.9,
                    39.9,
                    19.6,
                    37.8,
                    33.6,
                    26.7,
                    30.2,
                    37.6,
                    25.9,
                    20.8,
                    21.8,
                    35.3,
                    27.6,
                    24,
                    21.8,
                    27.8,
                    36.8,
                    30,
                    46.1,
                    41.3,
                    33.2,
                    38.8,
                    29.9,
                    28.9,
                    27.3,
                    33.7,
                    23.8,
                    25.9,
                    28,
                    35.5,
                    35.2,
                    27.8,
                    38.2,
                    44.2,
                    42.3,
                    40.7,
                    46.5,
                    25.6,
                    26.1,
                    36.8,
                    33.5,
                    32.8,
                    28.9,
                    0,
                    26.6,
                    26,
                    30.1,
                    25.1,
                    29.3,
                    25.2,
                    37.2,
                    39,
                    33.3,
                    37.3,
                    33.3,
                    36.5,
                    28.6,
                    30.4,
                    25,
                    29.7,
                    22.1,
                    24.2,
                    27.3,
                    25.6,
                    31.6,
                    30.3,
                    37.6,
                    32.8,
                    19.6,
                    25,
                    33.2,
                    0,
                    34.2,
                    31.6,
                    21.8,
                    18.2,
                    26.3,
                    30.8,
                    24.6,
                    29.8,
                    45.3,
                    41.3,
                    29.8,
                    33.3,
                    32.9,
                    29.6,
                    21.7,
                    36.3,
                    36.4,
                    39.4,
                    32.4,
                    34.9,
                    39.5,
                    32,
                    34.5,
                    43.6,
                    33.1,
                    32.8,
                    28.5,
                    27.4,
                    31.9,
                    27.8,
                    29.9,
                    36.9,
                    25.5,
                    38.1,
                    27.8,
                    46.2,
                    30.1,
                    33.8,
                    41.3,
                    37.6,
                    26.9,
                    32.4,
                    26.1,
                    38.6,
                    32,
                    31.3,
                    34.3,
                    32.5,
                    22.6,
                    29.5,
                    34.7,
                    30.1,
                    35.5,
                    24,
                    42.9,
                    27,
                    34.7,
                    42.1,
                    25,
                    26.5,
                    38.7,
                    28.7,
                    22.5,
                    34.9,
                    24.3,
                    33.3,
                    21.1,
                    46.8,
                    39.4,
                    34.4,
                    28.5,
                    33.6,
                    32,
                    45.3,
                    27.8,
                    36.8,
                    23.1,
                    27.1,
                    23.7,
                    27.8,
                    35.2,
                    28.4,
                    35.8,
                    40,
                    19.5,
                    41.5,
                    24,
                    30.9,
                    32.9,
                    38.2,
                    32.5,
                    36.1,
                    25.8,
                    28.7,
                    20.1,
                    28.2,
                    32.4,
                    38.4,
                    24.2,
                    40.8,
                    43.5,
                    30.8,
                    37.7,
                    24.7,
                    32.4,
                    34.6,
                    24.7,
                    27.4,
                    34.5,
                    26.2,
                    27.5,
                    25.9,
                    31.2,
                    28.8,
                    31.6,
                    40.9,
                    19.5,
                    29.3,
                    34.3,
                    29.5,
                    28,
                    27.6,
                    39.4,
                    23.4,
                    37.8,
                    28.3,
                    26.4,
                    25.2,
                    33.8,
                    34.1,
                    26.8,
                    34.2,
                    38.7,
                    21.8,
                    38.9,
                    39,
                    34.2,
                    27.7,
                    42.9,
                    37.6,
                    37.9,
                    33.7,
                    34.8,
                    32.5,
                    27.5,
                    34,
                    30.9,
                    33.6,
                    25.4,
                    35.5,
                    57.3,
                    35.6,
                    30.9,
                    24.8,
                    35.3,
                    36,
                    24.2,
                    24.2,
                    49.6,
                    44.6,
                    32.3,
                    0,
                    33.2,
                    23.1,
                    28.3,
                    24.1,
                    46.1,
                    24.6,
                    42.3,
                    39.1,
                    38.5,
                    23.5,
                    30.4,
                    29.9,
                    25,
                    34.5,
                    44.5,
                    35.9,
                    27.6,
                    35,
                    38.5,
                    28.4,
                    39.8,
                    0,
                    34.4,
                    32.8,
                    38,
                    31.2,
                    29.6,
                    41.2,
                    26.4,
                    29.5,
                    33.9,
                    33.8,
                    23.1,
                    35.5,
                    35.6,
                    29.3,
                    38.1,
                    29.3,
                    39.1,
                    32.8,
                    39.4,
                    36.1,
                    32.4,
                    22.9,
                    30.1,
                    28.4,
                    28.4,
                    44.5,
                    29,
                    23.3,
                    35.4,
                    27.4,
                    32,
                    36.6,
                    39.5,
                    42.3,
                    30.8,
                    28.5,
                    32.7,
                    40.6,
                    30,
                    49.3,
                    46.3,
                    36.4,
                    24.3,
                    31.2,
                    39,
                    26,
                    43.3,
                    32.4,
                    36.5,
                    32,
                    36.3,
                    37.5,
                    35.5,
                    28.4,
                    44,
                    22.5,
                    32.9,
                    36.8,
                    26.2,
                    30.1,
                    30.4
                  ],
                  "yaxis": "y"
                }
              ],
              "layout": {
                "legend": {
                  "tracegroupgap": 0
                },
                "margin": {
                  "t": 60
                },
                "template": {
                  "data": {
                    "bar": [
                      {
                        "error_x": {
                          "color": "#2a3f5f"
                        },
                        "error_y": {
                          "color": "#2a3f5f"
                        },
                        "marker": {
                          "line": {
                            "color": "#E5ECF6",
                            "width": 0.5
                          },
                          "pattern": {
                            "fillmode": "overlay",
                            "size": 10,
                            "solidity": 0.2
                          }
                        },
                        "type": "bar"
                      }
                    ],
                    "barpolar": [
                      {
                        "marker": {
                          "line": {
                            "color": "#E5ECF6",
                            "width": 0.5
                          },
                          "pattern": {
                            "fillmode": "overlay",
                            "size": 10,
                            "solidity": 0.2
                          }
                        },
                        "type": "barpolar"
                      }
                    ],
                    "carpet": [
                      {
                        "aaxis": {
                          "endlinecolor": "#2a3f5f",
                          "gridcolor": "white",
                          "linecolor": "white",
                          "minorgridcolor": "white",
                          "startlinecolor": "#2a3f5f"
                        },
                        "baxis": {
                          "endlinecolor": "#2a3f5f",
                          "gridcolor": "white",
                          "linecolor": "white",
                          "minorgridcolor": "white",
                          "startlinecolor": "#2a3f5f"
                        },
                        "type": "carpet"
                      }
                    ],
                    "choropleth": [
                      {
                        "colorbar": {
                          "outlinewidth": 0,
                          "ticks": ""
                        },
                        "type": "choropleth"
                      }
                    ],
                    "contour": [
                      {
                        "colorbar": {
                          "outlinewidth": 0,
                          "ticks": ""
                        },
                        "colorscale": [
                          [
                            0,
                            "#0d0887"
                          ],
                          [
                            0.1111111111111111,
                            "#46039f"
                          ],
                          [
                            0.2222222222222222,
                            "#7201a8"
                          ],
                          [
                            0.3333333333333333,
                            "#9c179e"
                          ],
                          [
                            0.4444444444444444,
                            "#bd3786"
                          ],
                          [
                            0.5555555555555556,
                            "#d8576b"
                          ],
                          [
                            0.6666666666666666,
                            "#ed7953"
                          ],
                          [
                            0.7777777777777778,
                            "#fb9f3a"
                          ],
                          [
                            0.8888888888888888,
                            "#fdca26"
                          ],
                          [
                            1,
                            "#f0f921"
                          ]
                        ],
                        "type": "contour"
                      }
                    ],
                    "contourcarpet": [
                      {
                        "colorbar": {
                          "outlinewidth": 0,
                          "ticks": ""
                        },
                        "type": "contourcarpet"
                      }
                    ],
                    "heatmap": [
                      {
                        "colorbar": {
                          "outlinewidth": 0,
                          "ticks": ""
                        },
                        "colorscale": [
                          [
                            0,
                            "#0d0887"
                          ],
                          [
                            0.1111111111111111,
                            "#46039f"
                          ],
                          [
                            0.2222222222222222,
                            "#7201a8"
                          ],
                          [
                            0.3333333333333333,
                            "#9c179e"
                          ],
                          [
                            0.4444444444444444,
                            "#bd3786"
                          ],
                          [
                            0.5555555555555556,
                            "#d8576b"
                          ],
                          [
                            0.6666666666666666,
                            "#ed7953"
                          ],
                          [
                            0.7777777777777778,
                            "#fb9f3a"
                          ],
                          [
                            0.8888888888888888,
                            "#fdca26"
                          ],
                          [
                            1,
                            "#f0f921"
                          ]
                        ],
                        "type": "heatmap"
                      }
                    ],
                    "heatmapgl": [
                      {
                        "colorbar": {
                          "outlinewidth": 0,
                          "ticks": ""
                        },
                        "colorscale": [
                          [
                            0,
                            "#0d0887"
                          ],
                          [
                            0.1111111111111111,
                            "#46039f"
                          ],
                          [
                            0.2222222222222222,
                            "#7201a8"
                          ],
                          [
                            0.3333333333333333,
                            "#9c179e"
                          ],
                          [
                            0.4444444444444444,
                            "#bd3786"
                          ],
                          [
                            0.5555555555555556,
                            "#d8576b"
                          ],
                          [
                            0.6666666666666666,
                            "#ed7953"
                          ],
                          [
                            0.7777777777777778,
                            "#fb9f3a"
                          ],
                          [
                            0.8888888888888888,
                            "#fdca26"
                          ],
                          [
                            1,
                            "#f0f921"
                          ]
                        ],
                        "type": "heatmapgl"
                      }
                    ],
                    "histogram": [
                      {
                        "marker": {
                          "pattern": {
                            "fillmode": "overlay",
                            "size": 10,
                            "solidity": 0.2
                          }
                        },
                        "type": "histogram"
                      }
                    ],
                    "histogram2d": [
                      {
                        "colorbar": {
                          "outlinewidth": 0,
                          "ticks": ""
                        },
                        "colorscale": [
                          [
                            0,
                            "#0d0887"
                          ],
                          [
                            0.1111111111111111,
                            "#46039f"
                          ],
                          [
                            0.2222222222222222,
                            "#7201a8"
                          ],
                          [
                            0.3333333333333333,
                            "#9c179e"
                          ],
                          [
                            0.4444444444444444,
                            "#bd3786"
                          ],
                          [
                            0.5555555555555556,
                            "#d8576b"
                          ],
                          [
                            0.6666666666666666,
                            "#ed7953"
                          ],
                          [
                            0.7777777777777778,
                            "#fb9f3a"
                          ],
                          [
                            0.8888888888888888,
                            "#fdca26"
                          ],
                          [
                            1,
                            "#f0f921"
                          ]
                        ],
                        "type": "histogram2d"
                      }
                    ],
                    "histogram2dcontour": [
                      {
                        "colorbar": {
                          "outlinewidth": 0,
                          "ticks": ""
                        },
                        "colorscale": [
                          [
                            0,
                            "#0d0887"
                          ],
                          [
                            0.1111111111111111,
                            "#46039f"
                          ],
                          [
                            0.2222222222222222,
                            "#7201a8"
                          ],
                          [
                            0.3333333333333333,
                            "#9c179e"
                          ],
                          [
                            0.4444444444444444,
                            "#bd3786"
                          ],
                          [
                            0.5555555555555556,
                            "#d8576b"
                          ],
                          [
                            0.6666666666666666,
                            "#ed7953"
                          ],
                          [
                            0.7777777777777778,
                            "#fb9f3a"
                          ],
                          [
                            0.8888888888888888,
                            "#fdca26"
                          ],
                          [
                            1,
                            "#f0f921"
                          ]
                        ],
                        "type": "histogram2dcontour"
                      }
                    ],
                    "mesh3d": [
                      {
                        "colorbar": {
                          "outlinewidth": 0,
                          "ticks": ""
                        },
                        "type": "mesh3d"
                      }
                    ],
                    "parcoords": [
                      {
                        "line": {
                          "colorbar": {
                            "outlinewidth": 0,
                            "ticks": ""
                          }
                        },
                        "type": "parcoords"
                      }
                    ],
                    "pie": [
                      {
                        "automargin": true,
                        "type": "pie"
                      }
                    ],
                    "scatter": [
                      {
                        "fillpattern": {
                          "fillmode": "overlay",
                          "size": 10,
                          "solidity": 0.2
                        },
                        "type": "scatter"
                      }
                    ],
                    "scatter3d": [
                      {
                        "line": {
                          "colorbar": {
                            "outlinewidth": 0,
                            "ticks": ""
                          }
                        },
                        "marker": {
                          "colorbar": {
                            "outlinewidth": 0,
                            "ticks": ""
                          }
                        },
                        "type": "scatter3d"
                      }
                    ],
                    "scattercarpet": [
                      {
                        "marker": {
                          "colorbar": {
                            "outlinewidth": 0,
                            "ticks": ""
                          }
                        },
                        "type": "scattercarpet"
                      }
                    ],
                    "scattergeo": [
                      {
                        "marker": {
                          "colorbar": {
                            "outlinewidth": 0,
                            "ticks": ""
                          }
                        },
                        "type": "scattergeo"
                      }
                    ],
                    "scattergl": [
                      {
                        "marker": {
                          "colorbar": {
                            "outlinewidth": 0,
                            "ticks": ""
                          }
                        },
                        "type": "scattergl"
                      }
                    ],
                    "scattermapbox": [
                      {
                        "marker": {
                          "colorbar": {
                            "outlinewidth": 0,
                            "ticks": ""
                          }
                        },
                        "type": "scattermapbox"
                      }
                    ],
                    "scatterpolar": [
                      {
                        "marker": {
                          "colorbar": {
                            "outlinewidth": 0,
                            "ticks": ""
                          }
                        },
                        "type": "scatterpolar"
                      }
                    ],
                    "scatterpolargl": [
                      {
                        "marker": {
                          "colorbar": {
                            "outlinewidth": 0,
                            "ticks": ""
                          }
                        },
                        "type": "scatterpolargl"
                      }
                    ],
                    "scatterternary": [
                      {
                        "marker": {
                          "colorbar": {
                            "outlinewidth": 0,
                            "ticks": ""
                          }
                        },
                        "type": "scatterternary"
                      }
                    ],
                    "surface": [
                      {
                        "colorbar": {
                          "outlinewidth": 0,
                          "ticks": ""
                        },
                        "colorscale": [
                          [
                            0,
                            "#0d0887"
                          ],
                          [
                            0.1111111111111111,
                            "#46039f"
                          ],
                          [
                            0.2222222222222222,
                            "#7201a8"
                          ],
                          [
                            0.3333333333333333,
                            "#9c179e"
                          ],
                          [
                            0.4444444444444444,
                            "#bd3786"
                          ],
                          [
                            0.5555555555555556,
                            "#d8576b"
                          ],
                          [
                            0.6666666666666666,
                            "#ed7953"
                          ],
                          [
                            0.7777777777777778,
                            "#fb9f3a"
                          ],
                          [
                            0.8888888888888888,
                            "#fdca26"
                          ],
                          [
                            1,
                            "#f0f921"
                          ]
                        ],
                        "type": "surface"
                      }
                    ],
                    "table": [
                      {
                        "cells": {
                          "fill": {
                            "color": "#EBF0F8"
                          },
                          "line": {
                            "color": "white"
                          }
                        },
                        "header": {
                          "fill": {
                            "color": "#C8D4E3"
                          },
                          "line": {
                            "color": "white"
                          }
                        },
                        "type": "table"
                      }
                    ]
                  },
                  "layout": {
                    "annotationdefaults": {
                      "arrowcolor": "#2a3f5f",
                      "arrowhead": 0,
                      "arrowwidth": 1
                    },
                    "autotypenumbers": "strict",
                    "coloraxis": {
                      "colorbar": {
                        "outlinewidth": 0,
                        "ticks": ""
                      }
                    },
                    "colorscale": {
                      "diverging": [
                        [
                          0,
                          "#8e0152"
                        ],
                        [
                          0.1,
                          "#c51b7d"
                        ],
                        [
                          0.2,
                          "#de77ae"
                        ],
                        [
                          0.3,
                          "#f1b6da"
                        ],
                        [
                          0.4,
                          "#fde0ef"
                        ],
                        [
                          0.5,
                          "#f7f7f7"
                        ],
                        [
                          0.6,
                          "#e6f5d0"
                        ],
                        [
                          0.7,
                          "#b8e186"
                        ],
                        [
                          0.8,
                          "#7fbc41"
                        ],
                        [
                          0.9,
                          "#4d9221"
                        ],
                        [
                          1,
                          "#276419"
                        ]
                      ],
                      "sequential": [
                        [
                          0,
                          "#0d0887"
                        ],
                        [
                          0.1111111111111111,
                          "#46039f"
                        ],
                        [
                          0.2222222222222222,
                          "#7201a8"
                        ],
                        [
                          0.3333333333333333,
                          "#9c179e"
                        ],
                        [
                          0.4444444444444444,
                          "#bd3786"
                        ],
                        [
                          0.5555555555555556,
                          "#d8576b"
                        ],
                        [
                          0.6666666666666666,
                          "#ed7953"
                        ],
                        [
                          0.7777777777777778,
                          "#fb9f3a"
                        ],
                        [
                          0.8888888888888888,
                          "#fdca26"
                        ],
                        [
                          1,
                          "#f0f921"
                        ]
                      ],
                      "sequentialminus": [
                        [
                          0,
                          "#0d0887"
                        ],
                        [
                          0.1111111111111111,
                          "#46039f"
                        ],
                        [
                          0.2222222222222222,
                          "#7201a8"
                        ],
                        [
                          0.3333333333333333,
                          "#9c179e"
                        ],
                        [
                          0.4444444444444444,
                          "#bd3786"
                        ],
                        [
                          0.5555555555555556,
                          "#d8576b"
                        ],
                        [
                          0.6666666666666666,
                          "#ed7953"
                        ],
                        [
                          0.7777777777777778,
                          "#fb9f3a"
                        ],
                        [
                          0.8888888888888888,
                          "#fdca26"
                        ],
                        [
                          1,
                          "#f0f921"
                        ]
                      ]
                    },
                    "colorway": [
                      "#636efa",
                      "#EF553B",
                      "#00cc96",
                      "#ab63fa",
                      "#FFA15A",
                      "#19d3f3",
                      "#FF6692",
                      "#B6E880",
                      "#FF97FF",
                      "#FECB52"
                    ],
                    "font": {
                      "color": "#2a3f5f"
                    },
                    "geo": {
                      "bgcolor": "white",
                      "lakecolor": "white",
                      "landcolor": "#E5ECF6",
                      "showlakes": true,
                      "showland": true,
                      "subunitcolor": "white"
                    },
                    "hoverlabel": {
                      "align": "left"
                    },
                    "hovermode": "closest",
                    "mapbox": {
                      "style": "light"
                    },
                    "paper_bgcolor": "white",
                    "plot_bgcolor": "#E5ECF6",
                    "polar": {
                      "angularaxis": {
                        "gridcolor": "white",
                        "linecolor": "white",
                        "ticks": ""
                      },
                      "bgcolor": "#E5ECF6",
                      "radialaxis": {
                        "gridcolor": "white",
                        "linecolor": "white",
                        "ticks": ""
                      }
                    },
                    "scene": {
                      "xaxis": {
                        "backgroundcolor": "#E5ECF6",
                        "gridcolor": "white",
                        "gridwidth": 2,
                        "linecolor": "white",
                        "showbackground": true,
                        "ticks": "",
                        "zerolinecolor": "white"
                      },
                      "yaxis": {
                        "backgroundcolor": "#E5ECF6",
                        "gridcolor": "white",
                        "gridwidth": 2,
                        "linecolor": "white",
                        "showbackground": true,
                        "ticks": "",
                        "zerolinecolor": "white"
                      },
                      "zaxis": {
                        "backgroundcolor": "#E5ECF6",
                        "gridcolor": "white",
                        "gridwidth": 2,
                        "linecolor": "white",
                        "showbackground": true,
                        "ticks": "",
                        "zerolinecolor": "white"
                      }
                    },
                    "shapedefaults": {
                      "line": {
                        "color": "#2a3f5f"
                      }
                    },
                    "ternary": {
                      "aaxis": {
                        "gridcolor": "white",
                        "linecolor": "white",
                        "ticks": ""
                      },
                      "baxis": {
                        "gridcolor": "white",
                        "linecolor": "white",
                        "ticks": ""
                      },
                      "bgcolor": "#E5ECF6",
                      "caxis": {
                        "gridcolor": "white",
                        "linecolor": "white",
                        "ticks": ""
                      }
                    },
                    "title": {
                      "x": 0.05
                    },
                    "xaxis": {
                      "automargin": true,
                      "gridcolor": "white",
                      "linecolor": "white",
                      "ticks": "",
                      "title": {
                        "standoff": 15
                      },
                      "zerolinecolor": "white",
                      "zerolinewidth": 2
                    },
                    "yaxis": {
                      "automargin": true,
                      "gridcolor": "white",
                      "linecolor": "white",
                      "ticks": "",
                      "title": {
                        "standoff": 15
                      },
                      "zerolinecolor": "white",
                      "zerolinewidth": 2
                    }
                  }
                },
                "xaxis": {
                  "anchor": "y",
                  "domain": [
                    0,
                    1
                  ],
                  "title": {
                    "text": "Age"
                  }
                },
                "yaxis": {
                  "anchor": "x",
                  "domain": [
                    0,
                    1
                  ],
                  "title": {
                    "text": "BMI"
                  }
                }
              }
            }
          },
          "metadata": {},
          "output_type": "display_data"
        }
      ],
      "source": [
        "# create the scatter plot to see relationships between Age and BMI\n",
        "fig = px.scatter(diabetes_dataset, x='Age', y='BMI')\n",
        "\n",
        "# display the plot\n",
        "fig.show()"
      ]
    },
    {
      "cell_type": "code",
      "execution_count": 11,
      "metadata": {
        "id": "RoDW7l9mqqHZ"
      },
      "outputs": [],
      "source": [
        "# separating the data and labels\n",
        "X = diabetes_dataset.drop(columns = 'Outcome', axis=1)\n",
        "Y = diabetes_dataset['Outcome']"
      ]
    },
    {
      "cell_type": "code",
      "execution_count": 12,
      "metadata": {
        "colab": {
          "base_uri": "https://localhost:8080/"
        },
        "id": "3eiRW9M9raMm",
        "outputId": "9b5717e8-583f-4f8a-c549-0470034f7390"
      },
      "outputs": [
        {
          "name": "stdout",
          "output_type": "stream",
          "text": [
            "     Pregnancies  Glucose  BloodPressure  SkinThickness  Insulin   BMI  \\\n",
            "0              6      148             72             35        0  33.6   \n",
            "1              1       85             66             29        0  26.6   \n",
            "2              8      183             64              0        0  23.3   \n",
            "3              1       89             66             23       94  28.1   \n",
            "4              0      137             40             35      168  43.1   \n",
            "..           ...      ...            ...            ...      ...   ...   \n",
            "763           10      101             76             48      180  32.9   \n",
            "764            2      122             70             27        0  36.8   \n",
            "765            5      121             72             23      112  26.2   \n",
            "766            1      126             60              0        0  30.1   \n",
            "767            1       93             70             31        0  30.4   \n",
            "\n",
            "     DiabetesPedigreeFunction  Age  \n",
            "0                       0.627   50  \n",
            "1                       0.351   31  \n",
            "2                       0.672   32  \n",
            "3                       0.167   21  \n",
            "4                       2.288   33  \n",
            "..                        ...  ...  \n",
            "763                     0.171   63  \n",
            "764                     0.340   27  \n",
            "765                     0.245   30  \n",
            "766                     0.349   47  \n",
            "767                     0.315   23  \n",
            "\n",
            "[768 rows x 8 columns]\n"
          ]
        }
      ],
      "source": [
        "print(X)"
      ]
    },
    {
      "cell_type": "code",
      "execution_count": 13,
      "metadata": {
        "colab": {
          "base_uri": "https://localhost:8080/"
        },
        "id": "AoxgTJAMrcCl",
        "outputId": "39ae3165-c4b9-4831-ed93-dfd1584414bb"
      },
      "outputs": [
        {
          "name": "stdout",
          "output_type": "stream",
          "text": [
            "0      1\n",
            "1      0\n",
            "2      1\n",
            "3      0\n",
            "4      1\n",
            "      ..\n",
            "763    0\n",
            "764    0\n",
            "765    0\n",
            "766    1\n",
            "767    0\n",
            "Name: Outcome, Length: 768, dtype: int64\n"
          ]
        }
      ],
      "source": [
        "print(Y)"
      ]
    },
    {
      "cell_type": "markdown",
      "metadata": {
        "id": "umAbo_kqrlzI"
      },
      "source": [
        "Data Standardization"
      ]
    },
    {
      "cell_type": "code",
      "execution_count": 14,
      "metadata": {
        "id": "njfM5X60rgnc"
      },
      "outputs": [],
      "source": [
        "scaler = StandardScaler()"
      ]
    },
    {
      "cell_type": "code",
      "execution_count": 15,
      "metadata": {
        "colab": {
          "base_uri": "https://localhost:8080/"
        },
        "id": "g0ai5ARbr53p",
        "outputId": "5e7a63a0-f2f5-4a1c-94b8-a9a3b5e4c82d"
      },
      "outputs": [
        {
          "data": {
            "text/html": [
              "<style>#sk-container-id-1 {color: black;background-color: white;}#sk-container-id-1 pre{padding: 0;}#sk-container-id-1 div.sk-toggleable {background-color: white;}#sk-container-id-1 label.sk-toggleable__label {cursor: pointer;display: block;width: 100%;margin-bottom: 0;padding: 0.3em;box-sizing: border-box;text-align: center;}#sk-container-id-1 label.sk-toggleable__label-arrow:before {content: \"▸\";float: left;margin-right: 0.25em;color: #696969;}#sk-container-id-1 label.sk-toggleable__label-arrow:hover:before {color: black;}#sk-container-id-1 div.sk-estimator:hover label.sk-toggleable__label-arrow:before {color: black;}#sk-container-id-1 div.sk-toggleable__content {max-height: 0;max-width: 0;overflow: hidden;text-align: left;background-color: #f0f8ff;}#sk-container-id-1 div.sk-toggleable__content pre {margin: 0.2em;color: black;border-radius: 0.25em;background-color: #f0f8ff;}#sk-container-id-1 input.sk-toggleable__control:checked~div.sk-toggleable__content {max-height: 200px;max-width: 100%;overflow: auto;}#sk-container-id-1 input.sk-toggleable__control:checked~label.sk-toggleable__label-arrow:before {content: \"▾\";}#sk-container-id-1 div.sk-estimator input.sk-toggleable__control:checked~label.sk-toggleable__label {background-color: #d4ebff;}#sk-container-id-1 div.sk-label input.sk-toggleable__control:checked~label.sk-toggleable__label {background-color: #d4ebff;}#sk-container-id-1 input.sk-hidden--visually {border: 0;clip: rect(1px 1px 1px 1px);clip: rect(1px, 1px, 1px, 1px);height: 1px;margin: -1px;overflow: hidden;padding: 0;position: absolute;width: 1px;}#sk-container-id-1 div.sk-estimator {font-family: monospace;background-color: #f0f8ff;border: 1px dotted black;border-radius: 0.25em;box-sizing: border-box;margin-bottom: 0.5em;}#sk-container-id-1 div.sk-estimator:hover {background-color: #d4ebff;}#sk-container-id-1 div.sk-parallel-item::after {content: \"\";width: 100%;border-bottom: 1px solid gray;flex-grow: 1;}#sk-container-id-1 div.sk-label:hover label.sk-toggleable__label {background-color: #d4ebff;}#sk-container-id-1 div.sk-serial::before {content: \"\";position: absolute;border-left: 1px solid gray;box-sizing: border-box;top: 0;bottom: 0;left: 50%;z-index: 0;}#sk-container-id-1 div.sk-serial {display: flex;flex-direction: column;align-items: center;background-color: white;padding-right: 0.2em;padding-left: 0.2em;position: relative;}#sk-container-id-1 div.sk-item {position: relative;z-index: 1;}#sk-container-id-1 div.sk-parallel {display: flex;align-items: stretch;justify-content: center;background-color: white;position: relative;}#sk-container-id-1 div.sk-item::before, #sk-container-id-1 div.sk-parallel-item::before {content: \"\";position: absolute;border-left: 1px solid gray;box-sizing: border-box;top: 0;bottom: 0;left: 50%;z-index: -1;}#sk-container-id-1 div.sk-parallel-item {display: flex;flex-direction: column;z-index: 1;position: relative;background-color: white;}#sk-container-id-1 div.sk-parallel-item:first-child::after {align-self: flex-end;width: 50%;}#sk-container-id-1 div.sk-parallel-item:last-child::after {align-self: flex-start;width: 50%;}#sk-container-id-1 div.sk-parallel-item:only-child::after {width: 0;}#sk-container-id-1 div.sk-dashed-wrapped {border: 1px dashed gray;margin: 0 0.4em 0.5em 0.4em;box-sizing: border-box;padding-bottom: 0.4em;background-color: white;}#sk-container-id-1 div.sk-label label {font-family: monospace;font-weight: bold;display: inline-block;line-height: 1.2em;}#sk-container-id-1 div.sk-label-container {text-align: center;}#sk-container-id-1 div.sk-container {/* jupyter's `normalize.less` sets `[hidden] { display: none; }` but bootstrap.min.css set `[hidden] { display: none !important; }` so we also need the `!important` here to be able to override the default hidden behavior on the sphinx rendered scikit-learn.org. See: https://github.com/scikit-learn/scikit-learn/issues/21755 */display: inline-block !important;position: relative;}#sk-container-id-1 div.sk-text-repr-fallback {display: none;}</style><div id=\"sk-container-id-1\" class=\"sk-top-container\"><div class=\"sk-text-repr-fallback\"><pre>StandardScaler()</pre><b>In a Jupyter environment, please rerun this cell to show the HTML representation or trust the notebook. <br />On GitHub, the HTML representation is unable to render, please try loading this page with nbviewer.org.</b></div><div class=\"sk-container\" hidden><div class=\"sk-item\"><div class=\"sk-estimator sk-toggleable\"><input class=\"sk-toggleable__control sk-hidden--visually\" id=\"sk-estimator-id-1\" type=\"checkbox\" checked><label for=\"sk-estimator-id-1\" class=\"sk-toggleable__label sk-toggleable__label-arrow\">StandardScaler</label><div class=\"sk-toggleable__content\"><pre>StandardScaler()</pre></div></div></div></div></div>"
            ],
            "text/plain": [
              "StandardScaler()"
            ]
          },
          "execution_count": 15,
          "metadata": {},
          "output_type": "execute_result"
        }
      ],
      "source": [
        "scaler.fit(X)"
      ]
    },
    {
      "cell_type": "code",
      "execution_count": 16,
      "metadata": {
        "id": "FHxNwPuZr-kD"
      },
      "outputs": [],
      "source": [
        "standardized_data = scaler.transform(X)"
      ]
    },
    {
      "cell_type": "code",
      "execution_count": 17,
      "metadata": {
        "colab": {
          "base_uri": "https://localhost:8080/"
        },
        "id": "fjMwZ5x6sPUJ",
        "outputId": "a626f7f5-21a6-4381-f52d-82a5002f8635"
      },
      "outputs": [
        {
          "name": "stdout",
          "output_type": "stream",
          "text": [
            "[[ 0.63994726  0.84832379  0.14964075 ...  0.20401277  0.46849198\n",
            "   1.4259954 ]\n",
            " [-0.84488505 -1.12339636 -0.16054575 ... -0.68442195 -0.36506078\n",
            "  -0.19067191]\n",
            " [ 1.23388019  1.94372388 -0.26394125 ... -1.10325546  0.60439732\n",
            "  -0.10558415]\n",
            " ...\n",
            " [ 0.3429808   0.00330087  0.14964075 ... -0.73518964 -0.68519336\n",
            "  -0.27575966]\n",
            " [-0.84488505  0.1597866  -0.47073225 ... -0.24020459 -0.37110101\n",
            "   1.17073215]\n",
            " [-0.84488505 -0.8730192   0.04624525 ... -0.20212881 -0.47378505\n",
            "  -0.87137393]]\n"
          ]
        }
      ],
      "source": [
        "print(standardized_data)"
      ]
    },
    {
      "cell_type": "code",
      "execution_count": 18,
      "metadata": {
        "id": "ZxWSl4SGsRjE"
      },
      "outputs": [],
      "source": [
        "X = standardized_data\n",
        "Y = diabetes_dataset['Outcome']"
      ]
    },
    {
      "cell_type": "code",
      "execution_count": 19,
      "metadata": {
        "colab": {
          "base_uri": "https://localhost:8080/"
        },
        "id": "lhJF_7QjsjmP",
        "outputId": "a8610ad2-8a71-4635-f5ac-cf4dc7411675"
      },
      "outputs": [
        {
          "name": "stdout",
          "output_type": "stream",
          "text": [
            "[[ 0.63994726  0.84832379  0.14964075 ...  0.20401277  0.46849198\n",
            "   1.4259954 ]\n",
            " [-0.84488505 -1.12339636 -0.16054575 ... -0.68442195 -0.36506078\n",
            "  -0.19067191]\n",
            " [ 1.23388019  1.94372388 -0.26394125 ... -1.10325546  0.60439732\n",
            "  -0.10558415]\n",
            " ...\n",
            " [ 0.3429808   0.00330087  0.14964075 ... -0.73518964 -0.68519336\n",
            "  -0.27575966]\n",
            " [-0.84488505  0.1597866  -0.47073225 ... -0.24020459 -0.37110101\n",
            "   1.17073215]\n",
            " [-0.84488505 -0.8730192   0.04624525 ... -0.20212881 -0.47378505\n",
            "  -0.87137393]]\n",
            "0      1\n",
            "1      0\n",
            "2      1\n",
            "3      0\n",
            "4      1\n",
            "      ..\n",
            "763    0\n",
            "764    0\n",
            "765    0\n",
            "766    1\n",
            "767    0\n",
            "Name: Outcome, Length: 768, dtype: int64\n"
          ]
        }
      ],
      "source": [
        "print(X)\n",
        "print(Y)"
      ]
    },
    {
      "cell_type": "markdown",
      "metadata": {
        "id": "gHciEFkxsoQP"
      },
      "source": [
        "Train Test Split"
      ]
    },
    {
      "cell_type": "code",
      "execution_count": 20,
      "metadata": {
        "id": "AEfKGj_yslvD"
      },
      "outputs": [],
      "source": [
        "X_train, X_test, Y_train, Y_test = train_test_split(X,Y, test_size = 0.2, stratify=Y, random_state=2)"
      ]
    },
    {
      "cell_type": "code",
      "execution_count": 21,
      "metadata": {
        "colab": {
          "base_uri": "https://localhost:8080/"
        },
        "id": "DR05T-o0t3FQ",
        "outputId": "c97654de-a60f-4486-be8b-138af79d5d71"
      },
      "outputs": [
        {
          "name": "stdout",
          "output_type": "stream",
          "text": [
            "(768, 8) (614, 8) (154, 8)\n"
          ]
        }
      ],
      "source": [
        "print(X.shape, X_train.shape, X_test.shape)"
      ]
    },
    {
      "cell_type": "markdown",
      "metadata": {
        "id": "ElJ3tkOtuC_n"
      },
      "source": [
        "Training the Model"
      ]
    },
    {
      "cell_type": "code",
      "execution_count": 22,
      "metadata": {
        "id": "5szLWHlNt9xc"
      },
      "outputs": [],
      "source": [
        "classifier = svm.SVC(kernel='linear')"
      ]
    },
    {
      "cell_type": "code",
      "execution_count": 23,
      "metadata": {
        "colab": {
          "base_uri": "https://localhost:8080/"
        },
        "id": "ncJWY_7suPAb",
        "outputId": "f6361d37-033a-444f-8703-92d4213b29aa"
      },
      "outputs": [
        {
          "data": {
            "text/html": [
              "<style>#sk-container-id-2 {color: black;background-color: white;}#sk-container-id-2 pre{padding: 0;}#sk-container-id-2 div.sk-toggleable {background-color: white;}#sk-container-id-2 label.sk-toggleable__label {cursor: pointer;display: block;width: 100%;margin-bottom: 0;padding: 0.3em;box-sizing: border-box;text-align: center;}#sk-container-id-2 label.sk-toggleable__label-arrow:before {content: \"▸\";float: left;margin-right: 0.25em;color: #696969;}#sk-container-id-2 label.sk-toggleable__label-arrow:hover:before {color: black;}#sk-container-id-2 div.sk-estimator:hover label.sk-toggleable__label-arrow:before {color: black;}#sk-container-id-2 div.sk-toggleable__content {max-height: 0;max-width: 0;overflow: hidden;text-align: left;background-color: #f0f8ff;}#sk-container-id-2 div.sk-toggleable__content pre {margin: 0.2em;color: black;border-radius: 0.25em;background-color: #f0f8ff;}#sk-container-id-2 input.sk-toggleable__control:checked~div.sk-toggleable__content {max-height: 200px;max-width: 100%;overflow: auto;}#sk-container-id-2 input.sk-toggleable__control:checked~label.sk-toggleable__label-arrow:before {content: \"▾\";}#sk-container-id-2 div.sk-estimator input.sk-toggleable__control:checked~label.sk-toggleable__label {background-color: #d4ebff;}#sk-container-id-2 div.sk-label input.sk-toggleable__control:checked~label.sk-toggleable__label {background-color: #d4ebff;}#sk-container-id-2 input.sk-hidden--visually {border: 0;clip: rect(1px 1px 1px 1px);clip: rect(1px, 1px, 1px, 1px);height: 1px;margin: -1px;overflow: hidden;padding: 0;position: absolute;width: 1px;}#sk-container-id-2 div.sk-estimator {font-family: monospace;background-color: #f0f8ff;border: 1px dotted black;border-radius: 0.25em;box-sizing: border-box;margin-bottom: 0.5em;}#sk-container-id-2 div.sk-estimator:hover {background-color: #d4ebff;}#sk-container-id-2 div.sk-parallel-item::after {content: \"\";width: 100%;border-bottom: 1px solid gray;flex-grow: 1;}#sk-container-id-2 div.sk-label:hover label.sk-toggleable__label {background-color: #d4ebff;}#sk-container-id-2 div.sk-serial::before {content: \"\";position: absolute;border-left: 1px solid gray;box-sizing: border-box;top: 0;bottom: 0;left: 50%;z-index: 0;}#sk-container-id-2 div.sk-serial {display: flex;flex-direction: column;align-items: center;background-color: white;padding-right: 0.2em;padding-left: 0.2em;position: relative;}#sk-container-id-2 div.sk-item {position: relative;z-index: 1;}#sk-container-id-2 div.sk-parallel {display: flex;align-items: stretch;justify-content: center;background-color: white;position: relative;}#sk-container-id-2 div.sk-item::before, #sk-container-id-2 div.sk-parallel-item::before {content: \"\";position: absolute;border-left: 1px solid gray;box-sizing: border-box;top: 0;bottom: 0;left: 50%;z-index: -1;}#sk-container-id-2 div.sk-parallel-item {display: flex;flex-direction: column;z-index: 1;position: relative;background-color: white;}#sk-container-id-2 div.sk-parallel-item:first-child::after {align-self: flex-end;width: 50%;}#sk-container-id-2 div.sk-parallel-item:last-child::after {align-self: flex-start;width: 50%;}#sk-container-id-2 div.sk-parallel-item:only-child::after {width: 0;}#sk-container-id-2 div.sk-dashed-wrapped {border: 1px dashed gray;margin: 0 0.4em 0.5em 0.4em;box-sizing: border-box;padding-bottom: 0.4em;background-color: white;}#sk-container-id-2 div.sk-label label {font-family: monospace;font-weight: bold;display: inline-block;line-height: 1.2em;}#sk-container-id-2 div.sk-label-container {text-align: center;}#sk-container-id-2 div.sk-container {/* jupyter's `normalize.less` sets `[hidden] { display: none; }` but bootstrap.min.css set `[hidden] { display: none !important; }` so we also need the `!important` here to be able to override the default hidden behavior on the sphinx rendered scikit-learn.org. See: https://github.com/scikit-learn/scikit-learn/issues/21755 */display: inline-block !important;position: relative;}#sk-container-id-2 div.sk-text-repr-fallback {display: none;}</style><div id=\"sk-container-id-2\" class=\"sk-top-container\"><div class=\"sk-text-repr-fallback\"><pre>SVC(kernel=&#x27;linear&#x27;)</pre><b>In a Jupyter environment, please rerun this cell to show the HTML representation or trust the notebook. <br />On GitHub, the HTML representation is unable to render, please try loading this page with nbviewer.org.</b></div><div class=\"sk-container\" hidden><div class=\"sk-item\"><div class=\"sk-estimator sk-toggleable\"><input class=\"sk-toggleable__control sk-hidden--visually\" id=\"sk-estimator-id-2\" type=\"checkbox\" checked><label for=\"sk-estimator-id-2\" class=\"sk-toggleable__label sk-toggleable__label-arrow\">SVC</label><div class=\"sk-toggleable__content\"><pre>SVC(kernel=&#x27;linear&#x27;)</pre></div></div></div></div></div>"
            ],
            "text/plain": [
              "SVC(kernel='linear')"
            ]
          },
          "execution_count": 23,
          "metadata": {},
          "output_type": "execute_result"
        }
      ],
      "source": [
        "#training the support vector Machine Classifier\n",
        "classifier.fit(X_train, Y_train)"
      ]
    },
    {
      "cell_type": "markdown",
      "metadata": {
        "id": "UV4-CAfquiyP"
      },
      "source": [
        "Model Evaluation"
      ]
    },
    {
      "cell_type": "markdown",
      "metadata": {
        "id": "yhAjGPJWunXa"
      },
      "source": [
        "Accuracy Score"
      ]
    },
    {
      "cell_type": "code",
      "execution_count": 24,
      "metadata": {
        "id": "fJLEPQK7ueXp"
      },
      "outputs": [],
      "source": [
        "# accuracy score on the training data\n",
        "X_train_prediction = classifier.predict(X_train)\n",
        "training_data_accuracy = accuracy_score(X_train_prediction, Y_train)"
      ]
    },
    {
      "cell_type": "code",
      "execution_count": 25,
      "metadata": {
        "colab": {
          "base_uri": "https://localhost:8080/"
        },
        "id": "mmJ22qhVvNwj",
        "outputId": "5b762b2a-b540-4e87-8e73-eddbd1e843cf"
      },
      "outputs": [
        {
          "name": "stdout",
          "output_type": "stream",
          "text": [
            "Accuracy score of the training data :  0.7866449511400652\n"
          ]
        }
      ],
      "source": [
        "print('Accuracy score of the training data : ', training_data_accuracy)"
      ]
    },
    {
      "cell_type": "code",
      "execution_count": 26,
      "metadata": {
        "id": "G2CICFMEvcCl"
      },
      "outputs": [],
      "source": [
        "# accuracy score on the test data\n",
        "X_test_prediction = classifier.predict(X_test)\n",
        "test_data_accuracy = accuracy_score(X_test_prediction, Y_test)"
      ]
    },
    {
      "cell_type": "code",
      "execution_count": 27,
      "metadata": {
        "colab": {
          "base_uri": "https://localhost:8080/"
        },
        "id": "i2GcW_t_vz7C",
        "outputId": "e3dd5652-6139-4ee7-e38e-35457d1a5898"
      },
      "outputs": [
        {
          "name": "stdout",
          "output_type": "stream",
          "text": [
            "Accuracy score of the test data :  0.7727272727272727\n"
          ]
        }
      ],
      "source": [
        "print('Accuracy score of the test data : ', test_data_accuracy)"
      ]
    },
    {
      "cell_type": "markdown",
      "metadata": {
        "id": "gq8ZX1xpwPF5"
      },
      "source": [
        "Making a Predictive System"
      ]
    },
    {
      "cell_type": "code",
      "execution_count": 28,
      "metadata": {
        "colab": {
          "base_uri": "https://localhost:8080/"
        },
        "id": "U-ULRe4yv5tH",
        "outputId": "d85d9561-99dc-4b8e-daaf-4fdd321c9263"
      },
      "outputs": [
        {
          "name": "stdout",
          "output_type": "stream",
          "text": [
            "[[ 0.3429808   1.41167241  0.14964075 -0.09637905  0.82661621 -0.78595734\n",
            "   0.34768723  1.51108316]]\n",
            "[1]\n",
            "The person is diabetic\n"
          ]
        },
        {
          "name": "stderr",
          "output_type": "stream",
          "text": [
            "c:\\Users\\IT LAND\\anaconda3\\envs\\datascience\\lib\\site-packages\\sklearn\\base.py:420: UserWarning:\n",
            "\n",
            "X does not have valid feature names, but StandardScaler was fitted with feature names\n",
            "\n"
          ]
        }
      ],
      "source": [
        "input_data = (5,166,72,19,175,25.8,0.587,51)\n",
        "\n",
        "# changing the input_data to numpy array\n",
        "input_data_as_numpy_array = np.asarray(input_data)\n",
        "\n",
        "# reshape the array as we are predicting for one instance\n",
        "input_data_reshaped = input_data_as_numpy_array.reshape(1,-1)\n",
        "\n",
        "# standardize the input data\n",
        "std_data = scaler.transform(input_data_reshaped)\n",
        "print(std_data)\n",
        "\n",
        "prediction = classifier.predict(std_data)\n",
        "print(prediction)\n",
        "\n",
        "if (prediction[0] == 0):\n",
        "  print('The person is not diabetic')\n",
        "else:\n",
        "  print('The person is diabetic')"
      ]
    },
    {
      "cell_type": "code",
      "execution_count": null,
      "metadata": {
        "id": "Ex2A_pr4yCpm"
      },
      "outputs": [],
      "source": []
    },
    {
      "cell_type": "markdown",
      "metadata": {
        "id": "M8y7lCg375l6"
      },
      "source": [
        "Saving the Trained Model using Library *Pickle*"
      ]
    },
    {
      "cell_type": "code",
      "execution_count": 29,
      "metadata": {
        "id": "EAuN0bEc8ADK"
      },
      "outputs": [],
      "source": [
        "#import pickle"
      ]
    },
    {
      "cell_type": "code",
      "execution_count": 30,
      "metadata": {
        "id": "XfkHt_5i8Bh0"
      },
      "outputs": [],
      "source": [
        "# filename = 'trained_model.sav'\n",
        "# pickle.dump(classifier,open(filename,'wb'))"
      ]
    },
    {
      "cell_type": "code",
      "execution_count": 31,
      "metadata": {
        "id": "O3DroN5IFYDg"
      },
      "outputs": [],
      "source": [
        "# load the saved model\n",
        "#loaded_model = pickle.load(open('trained_model.sav','rb'))"
      ]
    }
  ],
  "metadata": {
    "colab": {
      "provenance": []
    },
    "kernelspec": {
      "display_name": "Python 3",
      "name": "python3"
    },
    "language_info": {
      "codemirror_mode": {
        "name": "ipython",
        "version": 3
      },
      "file_extension": ".py",
      "mimetype": "text/x-python",
      "name": "python",
      "nbconvert_exporter": "python",
      "pygments_lexer": "ipython3",
      "version": "3.10.9"
    }
  },
  "nbformat": 4,
  "nbformat_minor": 0
}
